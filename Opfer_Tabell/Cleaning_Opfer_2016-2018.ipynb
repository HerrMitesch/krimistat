{
 "cells": [
  {
   "cell_type": "code",
   "execution_count": 1,
   "metadata": {},
   "outputs": [],
   "source": [
    "import pandas as pd"
   ]
  },
  {
   "cell_type": "code",
   "execution_count": 7,
   "metadata": {},
   "outputs": [],
   "source": [
    "data_2016=pd.read_csv(\"Opfer_2016.csv\",encoding='ISO-8859-1', sep=';')\n",
    "data_2017=pd.read_csv(\"Opfer_2017.csv\",encoding='ISO-8859-1', sep=';')\n",
    "data_2018=pd.read_csv(\"Opfer_2018.csv\",encoding='ISO-8859-1', sep=';')\n",
    "data_2019=pd.read_csv(\"Opfer_2019.csv\",encoding='ISO-8859-1', sep=';')\n",
    "data_2020=pd.read_csv(\"Opfer_2020.csv\",encoding='ISO-8859-1', sep=';')\n",
    "data_2021=pd.read_csv(\"Opfer_2021.csv\",encoding='ISO-8859-1', sep=';')\n",
    "data_2022=pd.read_csv(\"Opfer_2022.csv\",encoding='ISO-8859-1', sep=';')\n",
    "data_2023=pd.read_csv(\"Opfer_2023.csv\",encoding='ISO-8859-1', sep=';')"
   ]
  },
  {
   "cell_type": "code",
   "execution_count": 8,
   "metadata": {},
   "outputs": [
    {
     "name": "stdout",
     "output_type": "stream",
     "text": [
      "13\n",
      "13\n",
      "15\n",
      "15\n",
      "15\n",
      "15\n",
      "15\n",
      "15\n"
     ]
    }
   ],
   "source": [
    "data_2016[\"Straftat\"].value_counts\n",
    "print(data_2016[\"Straftat\"].nunique())\n",
    "print(data_2017[\"Straftat\"].nunique())\n",
    "print(data_2018[\"Straftat\"].nunique())\n",
    "print(data_2019[\"Straftat\"].nunique())\n",
    "print(data_2020[\"Straftat\"].nunique())\n",
    "print(data_2021[\"Straftat\"].nunique())\n",
    "print(data_2022[\"Straftat\"].nunique())\n",
    "print(data_2023[\"Straftat\"].nunique())\n"
   ]
  },
  {
   "cell_type": "code",
   "execution_count": null,
   "metadata": {},
   "outputs": [
    {
     "name": "stdout",
     "output_type": "stream",
     "text": [
      "['Straftaten insgesamt', 'Vergewaltigung und sexuelle Noetigung    177 Abs. 2, 3 und 4, 178 StGB', 'Raub, raeuberische Erpressung und raeuberischer Angriff auf Kraftfahrer    249-252, 255, 316a StGB', 'Raub, raeuberische Erpressung auf/gegen Geldinstitute, Postfilialen und -agenturen', 'Raub, raeuberische Erpressung auf/gegen sonstige Zahlstellen und Geschaefte', 'Handtaschenraub', 'Sonstige Raubueberfaelle auf Stra en, Wegen oder Plaetzen', 'Raubueberfaelle in Wohnungen', 'Gefaehrliche und schwere Koerperverletzung, Verstuemmelung weiblicher Genitalien    224, 226, 226a, 231 StGB', 'Vorsaetzliche einfache Koerperverletzung   223 StGB', 'Widerstand gegen Polizeivollzugsbeamte', 'Gewaltkriminalitaet', 'Mord, Totschlag und Toetung auf Verlangen']\n",
      "['Straftaten insgesamt', 'Vergewaltigung und sexuelle N tigung/ bergriffe    177 Abs. 1, 2, 3, 4, 6, 7, 8 und 9, 178 StGB', 'Raub, r uberische Erpressung und r uberischer Angriff auf Kraftfahrer    249-252, 255, 316a StGB', 'Raub, r uberische Erpressung auf/gegen Geldinstitute, Postfilialen und -agenturen', 'Raub, r uberische Erpressung auf/gegen sonstige Zahlstellen und Gesch fte', 'Handtaschenraub', 'Sonstige Raub berf lle auf Stra en, Wegen oder Pl tzen', 'Raub berf lle in Wohnungen', 'Gef hrliche und schwere K rperverletzung, Verst mmelung weiblicher Genitalien    224, 226, 226a, 231 StGB', 'Vors tzliche einfache K rperverletzung   223 StGB', 'Widerstand gegen Polizeivollzugsbeamte', 'Gewaltkriminalit t', 'Mord, Totschlag und T tung auf Verlangen']\n",
      "['Straftaten insgesamt', 'Vergewaltigung, sexuelle N tigung und sexueller  bergriff im besonders schweren Fall einschl. mit Todesfolge    177, 178 StGB', 'Raub, r uberische Erpressung und r uberischer Angriff auf Kraftfahrer    249-252, 255, 316a StGB', 'Raub, r uberische Erpressung auf/gegen Geldinstitute, Postfilialen und -agenturen', 'Raub, r uberische Erpressung auf/gegen sonstige Zahlstellen und Gesch fte', 'Handtaschenraub', 'Sonstige Raub berf lle auf Stra en, Wegen oder Pl tzen', 'Raub berf lle in Wohnungen', 'Gef hrliche und schwere K rperverletzung, Verst mmelung weiblicher Genitalien    224, 226, 226a, 231 StGB', 'Vors tzliche einfache K rperverletzung   223 StGB', 'Widerstand gegen und t tlicher Angriff auf Vollstreckungsbeamte und gleichstehende Personen    113-115 StGB', 'Widerstand gegen Vollstreckungsbeamte und gleichstehende Personen    113, 115 StGB', 'T tlicher Angriff auf Vollstreckungsbeamte und gleichstehende Personen    114, 115 StGB', 'Gewaltkriminalit t', 'Mord, Totschlag und T tung auf Verlangen']\n",
      "['Straftaten insgesamt', 'Vergewaltigung, sexuelle N tigung und sexueller  bergriff im besonders schweren Fall einschl. mit Todesfolge    177, 178 StGB', 'Raub, r uberische Erpressung und r uberischer Angriff auf Kraftfahrer    249-252, 255, 316a StGB', 'Raub, r uberische Erpressung auf/gegen Geldinstitute, Postfilialen und -agenturen', 'Raub, r uberische Erpressung auf/gegen sonstige Zahlstellen und Gesch fte', 'Handtaschenraub', 'Sonstige Raub berf lle auf Stra en, Wegen oder Pl tzen', 'Raub berf lle in Wohnungen', 'Gef hrliche und schwere K rperverletzung, Verst mmelung weiblicher Genitalien    224, 226, 226a, 231 StGB', 'Vors tzliche einfache K rperverletzung   223 StGB', 'Widerstand gegen und t tlicher Angriff auf Vollstreckungsbeamte und gleichstehende Personen    113-115 StGB', 'Widerstand gegen Vollstreckungsbeamte und gleichstehende Personen    113, 115 StGB', 'T tlicher Angriff auf Vollstreckungsbeamte und gleichstehende Personen    114, 115 StGB', 'Gewaltkriminalit t', 'Mord, Totschlag und T tung auf Verlangen']\n",
      "['Straftaten insgesamt', 'Vergewaltigung, sexuelle N tigung und sexueller  bergriff im besonders schweren Fall einschl. mit Todesfolge    177, 178 StGB', 'Raub, r uberische Erpressung und r uberischer Angriff auf Kraftfahrer    249-252, 255, 316a StGB', 'Raub, r uberische Erpressung auf/gegen Geldinstitute, Postfilialen und -agenturen', 'Raub, r uberische Erpressung auf/gegen sonstige Kassenr ume und Gesch fte', 'Handtaschenraub', 'Sonstige Raub berf lle auf Stra en, Wegen oder Pl tzen', 'Raub berf lle in Wohnungen', 'Gef hrliche und schwere K rperverletzung, Verst mmelung weiblicher Genitalien    224, 226, 226a, 231 StGB', 'Vors tzliche einfache K rperverletzung   223 StGB', 'Widerstand gegen und t tlicher Angriff auf Vollstreckungsbeamte und gleichstehende Personen    113-115 StGB', 'Widerstand gegen Vollstreckungsbeamte und gleichstehende Personen    113, 115 StGB', 'T tlicher Angriff auf Vollstreckungsbeamte und gleichstehende Personen    114, 115 StGB', 'Gewaltkriminalit t', 'Mord, Totschlag und T tung auf Verlangen']\n",
      "['Straftaten insgesamt', 'Vergewaltigung, sexuelle N tigung und sexueller  bergriff im besonders schweren Fall einschl. mit Todesfolge    177, 178 StGB', 'Raub, r uberische Erpressung und r uberischer Angriff auf Kraftfahrer    249-252, 255, 316a StGB', 'Raub, r uberische Erpressung auf/gegen Geldinstitute, Postfilialen und -agenturen', 'Raub, r uberische Erpressung auf/gegen sonstige Kassenr ume und Gesch fte', 'Handtaschenraub', 'Sonstige Raub berf lle auf Stra en, Wegen oder Pl tzen', 'Raub berf lle in Wohnungen', 'Gef hrliche und schwere K rperverletzung, Verst mmelung weiblicher Genitalien    224, 226, 226a, 231 StGB', 'Vors tzliche einfache K rperverletzung   223 StGB', 'Widerstand gegen und t tlicher Angriff auf Vollstreckungsbeamte und gleichstehende Personen    113-115 StGB', 'Widerstand gegen Vollstreckungsbeamte und gleichstehende Personen    113, 115 StGB', 'T tlicher Angriff auf Vollstreckungsbeamte und gleichstehende Personen    114, 115 StGB', 'Gewaltkriminalit t', 'Mord, Totschlag und T tung auf Verlangen']\n",
      "['Straftaten insgesamt', 'Vergewaltigung, sexuelle N tigung und sexueller  bergriff im besonders schweren Fall einschl. mit Todesfolge    177, 178 StGB', 'Raub, r uberische Erpressung und r uberischer Angriff auf Kraftfahrer    249-252, 255, 316a StGB', 'Raub, r uberische Erpressung auf/gegen Geldinstitute, Postfilialen und -agenturen', 'Raub, r uberische Erpressung auf/gegen sonstige Kassenr ume und Gesch fte ', 'Handtaschenraub', 'Sonstige Raub berf lle auf Stra en, Wegen oder Pl tzen', 'Raub berf lle in Wohnungen', 'Gef hrliche und schwere K rperverletzung, Verst mmelung weiblicher Genitalien    224, 226, 226a, 231 StGB ', 'Vors tzliche einfache K rperverletzung   223 StGB', 'Widerstand gegen und t tlicher Angriff auf Vollstreckungsbeamte und gleichstehende Personen    113-115 StGB', 'Widerstand gegen Vollstreckungsbeamte und gleichstehende Personen    113, 115 StGB', 'T tlicher Angriff auf Vollstreckungsbeamte und gleichstehende Personen    114, 115 StGB', 'Gewaltkriminalit t', 'Mord, Totschlag und T tung auf Verlangen']\n",
      "['Straftaten insgesamt', 'Vergewaltigung, sexuelle N tigung und sexueller  bergriff im besonders schweren Fall einschl. mit Todesfolge    177, 178 StGB', 'Raub, r uberische Erpressung und r uberischer Angriff auf Kraftfahrer    249-252, 255, 316a StGB', 'Raub, r uberische Erpressung auf/gegen Geldinstitute, Postfilialen und -agenturen', 'Raub, r uberische Erpressung auf/gegen sonstige Kassenr ume und Gesch fte ', 'Handtaschenraub', 'Sonstige Raub berf lle auf Stra en, Wegen oder Pl tzen', 'Raub berf lle in Wohnungen', 'Gef hrliche und schwere K rperverletzung, Verst mmelung weiblicher Genitalien    224, 226, 226a, 231 StGB ', 'Vors tzliche einfache K rperverletzung   223 StGB', 'Widerstand gegen und t tlicher Angriff auf Vollstreckungsbeamte und gleichstehende Personen    113-115 StGB', 'Widerstand gegen Vollstreckungsbeamte und gleichstehende Personen    113, 115 StGB', 'T tlicher Angriff auf Vollstreckungsbeamte und gleichstehende Personen    114, 115 StGB', 'Gewaltkriminalit t', 'Mord, Totschlag und T tung auf Verlangen']\n"
     ]
    },
    {
     "ename": "",
     "evalue": "",
     "output_type": "error",
     "traceback": [
      "\u001b[1;31mDer Kernel ist beim Ausführen von Code in der aktuellen Zelle oder einer vorherigen Zelle abgestürzt. \n",
      "\u001b[1;31mBitte überprüfen Sie den Code in der/den Zelle(n), um eine mögliche Fehlerursache zu identifizieren. \n",
      "\u001b[1;31mKlicken Sie <a href='https://aka.ms/vscodeJupyterKernelCrash'>hier</a>, um weitere Informationen zu erhalten. \n",
      "\u001b[1;31mWeitere Informationen finden Sie unter Jupyter <a href='command:jupyter.viewOutput'>Protokoll</a>."
     ]
    }
   ],
   "source": [
    "unique_straftaten_2016 = data_2016[\"Straftat\"].unique().tolist()\n",
    "print(unique_straftaten_2016)\n",
    "\n",
    "unique_straftaten_2017 = data_2017[\"Straftat\"].unique().tolist()\n",
    "print(unique_straftaten_2017)\n",
    "\n",
    "unique_straftaten_2018 = data_2018[\"Straftat\"].unique().tolist()\n",
    "print(unique_straftaten_2018)\n",
    "\n",
    "unique_straftaten_2019 = data_2019[\"Straftat\"].unique().tolist()\n",
    "print(unique_straftaten_2019)\n",
    "\n",
    "unique_straftaten_2020 = data_2020[\"Straftat\"].unique().tolist()\n",
    "print(unique_straftaten_2020)\n",
    "\n",
    "unique_straftaten_2021 = data_2021[\"Straftat\"].unique().tolist()\n",
    "print(unique_straftaten_2021)\n",
    "\n",
    "unique_straftaten_2022 = data_2022[\"Straftat\"].unique().tolist()\n",
    "print(unique_straftaten_2022)\n",
    "\n",
    "unique_straftaten_2023 = data_2023[\"Straftat\"].unique().tolist()\n",
    "print(unique_straftaten_2023)\n",
    "\n"
   ]
  },
  {
   "cell_type": "code",
   "execution_count": null,
   "metadata": {},
   "outputs": [],
   "source": [
    "crime_dict = {'Beförderungserschleichung':'Befoerderungserschleichung', \n",
    "              'Beguenstigung, Strafvereitelung (ohne Strafvereitelung im Amt), Hehlerei und Geldwaesche §§ 257, 258, 259-261 StGB':'Beguenstigung, Strafvereitelung, Hehlerei und Geldwaesche', \n",
    "              'Begünstigung, Strafvereitelung (ohne Strafvereitelung im Amt), Hehlerei und Geldwäsche §§ 257, 258, 259-261 StGB':'Beguenstigung, Strafvereitelung, Hehlerei und Geldwaesche', \n",
    "              'Betrug §§ 263, 263a, 264, 264a, 265, 265a, 265b StGB':'Betrug', \n",
    "              'Betrug §§ 263, 263a, 264, 264a, 265, 265a-e StGB':'Betrug', \n",
    "              'Betrug §§ 263, 263a, 264, 264a, 265, 265a-e StGB ':'Betrug', \n",
    "              'Brandstiftung und Herbeifuehren einer Brandgefahr §§ 306-306d, 306f StGB':'Brandstiftung', \n",
    "              'Brandstiftung und Herbeiführen einer Brandgefahr §§ 306-306d, 306f StGB':'Brandstiftung', \n",
    "              'Computerkriminalität':'Computerkriminalitaet', \n",
    "              'Cybercrime im engeren Sinne':'Cybercrime',\n",
    "              'Diebstahl ohne erschwerende Umstaende §§ 242, 247, 248a-c StGB und zwar:':'Diebstahl ohne erschwerende Umstaende', \n",
    "              'Diebstahl ohne erschwerende Umstände §§ 242, 247, 248a-c StGB und zwar:':'Diebstahl ohne erschwerende Umstaende', \n",
    "              'Diebstahl unter erschwerenden Umstaenden §§ 243-244a StGB und zwar:':'Diebstahl unter erschwerenden Umstaenden', \n",
    "              'Diebstahl unter erschwerenden Umständen §§ 243-244a StGB und zwar:':'Diebstahl unter erschwerenden Umstaenden', \n",
    "              'Erschleichen von Leistungen § 265a StGB':'Erschleichen von Leistungen', \n",
    "              'Gefaehrliche und schwere Koerperverletzung, Verstuemmelung weiblicher Genitalien §§ 224, 226, 226a, 231 StGB':'Gefaehrliche und schwere Koerperverletzung, Verstuemmelung weiblicher Genitalien', \n",
    "              'Gefährliche und schwere Körperverletzung, Verstümmelung weiblicher Genitalien §§ 224, 226, 226a, 231 StGB':'Gefaehrliche und schwere Koerperverletzung, Verstuemmelung weiblicher Genitalien', \n",
    "              'Gefährliche und schwere Körperverletzung, Verstümmelung weiblicher Genitalien §§ 224, 226, 226a, 231 StGB ':'Gefaehrliche und schwere Koerperverletzung, Verstuemmelung weiblicher Genitalien', \n",
    "              'Gewaltkriminalität':'Gewaltkriminalitaet', \n",
    "              'IuK-Kriminalität im engeren Sinne':'IuK-Kriminalitaet im engeren Sinne', \n",
    "              'IuK-Kriminalität im engeren Sinne (SZ: 517500, 517900, 543000, 674200, 678000)':'IuK-Kriminalitaet im engeren Sinne',\n",
    "              'Mord, Totschlag und Tötung auf Verlangen':'Mord, Totschlag und Toetung auf Verlangen',   \n",
    "              'Raub, raeuberische Erpressung und raeuberischer Angriff auf Kraftfahrer §§ 249-252, 255, 316a StGB':'Raub, raeuberische Erpressung und raeuberischer Angriff auf Kraftfahrer', \n",
    "              'Raub, räuberische Erpressung auf/gegen Geldinstitute, Postfilialen und -agenturen':'Raub, raeuberische Erpressung auf/gegen Geldinstitute, Postfilialen und -agenturen', \n",
    "              'Raub, räuberische Erpressung auf/gegen sonstige Kassenräume und Geschäfte':'Raub, raeuberische Erpressung auf/gegen sonstige Kassenraeume und Geschaefte', \n",
    "              'Raub, räuberische Erpressung auf/gegen sonstige Kassenräume und Geschäfte ':'Raub, raeuberische Erpressung auf/gegen sonstige Kassenraeume und Geschaefte', \n",
    "              'Raub, räuberische Erpressung auf/gegen sonstige Zahlstellen und Geschäfte':'Raub, raeuberische Erpressung auf/gegen sonstige Zahlstellen und Geschaefte', \n",
    "              'Raub, räuberische Erpressung und räuberischer Angriff auf Kraftfahrer §§ 249-252, 255, 316a StGB':'Raub, raeuberische Erpressung und raeuberischer Angriff auf Kraftfahrer', \n",
    "              'Raubüberfälle in Wohnungen':'Raubueberfaelle in Wohnungen', \n",
    "              'Rauschgiftdelikte (soweit nicht bereits mit anderer Schluesselzahl erfasst)':'Rauschgiftdelikte', \n",
    "              'Rauschgiftdelikte (soweit nicht bereits mit anderer Schlüsselzahl erfasst)':'Rauschgiftdelikte', \n",
    "              'Rauschgiftdelikte (soweit nicht bereits mit anderer Schlüsselzahl erfasst) ':'Rauschgiftdelikte', \n",
    "              'Sachbeschaedigung §§ 303-305a StGB':'Sachbeschaedigung', \n",
    "              'Sachbeschädigung durch Graffiti insgesamt':'Sachbeschaedigung durch Graffiti insgesamt', \n",
    "              'Sachbeschädigung §§ 303-305a StGB':'Sachbeschaedigung', \n",
    "              'Sonstige Raubüberfälle auf Straßen, Wegen oder Plätzen':'Sonstige Raubueberfaelle auf Straßen, Wegen oder Plaetzen', \n",
    "              'Straftaten gegen das Aufenthalts-, das Asyl- und das Freizügigkeitsgesetz/EU':'Straftaten gegen das Aufenthalts-, das Asyl- und das Freizuegigkeitsgesetz/EU', \n",
    "              'Straftaten gegen das Aufenthalts-, das Asylverfahrens- und das Freizügigkeitsgesetz/EU':'Straftaten gegen das Aufenthalts-, das Asyl- und das Freizuegigkeitsgesetz/EU', \n",
    "              'Straftaten insgesamt, jedoch ohne Verstöße gegen das Aufenthalts-, das Asyl- und das Freizügigkeitsgesetz/EU (Schlüssel 725000)':'Straftaten insgesamt, jedoch ohne Verstoeße gegen das Aufenthalts-, das Asyl- und das Freizuegigkeitsgesetz/EU', \n",
    "              'Straftaten insgesamt, jedoch ohne Verstöße gegen das Aufenthalts-, das Asylverfahrens- und das Freizügigkeitsgesetz/EU (Schlüssel 725000)':'Straftaten insgesamt, jedoch ohne Verstoeße gegen das Aufenthalts-, das Asyl- und das Freizuegigkeitsgesetz/EU', \n",
    "              'Straßenkriminalität':'Straßenkriminalitaet', \n",
    "              'Tageswohnungseinbruchdiebstahl § 244 Abs. 1 Nr. 3, § 244a StGB':'Tageswohnungseinbruchdiebstahl', \n",
    "              'Tageswohnungseinbruchdiebstahl §§ 244 Abs. 1 Nr. 3 und Abs. 4, 244a StGB':'Tageswohnungseinbruchdiebstahl', \n",
    "              'Tageswohnungseinbruchdiebstahl §§ 244 Abs. 1 Nr. 3, 244a StGB':'Tageswohnungseinbruchdiebstahl', \n",
    "              'Tätlicher Angriff auf Vollstreckungsbeamte und gleichstehende Personen §§ 114, 115 StGB':'Taetlicher Angriff auf Vollstreckungsbeamte', \n",
    "              'Unerlaubt eingereiste/aufhaeltige Personen (SZ: 725100, 725700)':'Unerlaubt eingereiste/aufhaeltige Personen', \n",
    "              'Unerlaubt eingereiste/aufhältige Personen (SZ: 725100, 725700)':'Unerlaubt eingereiste/aufhaeltige Personen', \n",
    "              'Unterschlagung §§ 246, 247, 248a StGB':'Unterschlagung', \n",
    "              'Unterschlagung §§ 246, 247, 248a StGB ':'Unterschlagung', \n",
    "              'Urkundenfaelschung §§ 267-271, 273-279, 281 StGB':'Urkundenfaelschung', \n",
    "              'Urkundenfälschung §§ 267-271, 273-279, 281 StGB':'Urkundenfaelschung', \n",
    "              'Urkundenfälschung §§ 267-271, 273-279, 281 StGB ':'Urkundenfaelschung', \n",
    "              'Vergewaltigung und sexuelle Noetigung §§ 177 Abs. 2, 3 und 4, 178 StGB':'Vergewaltigung und sexuelle Noetigung', \n",
    "              'Vergewaltigung und sexuelle Nötigung §§ 177 Abs. 2, 3 und 4, 178 StGB':'Vergewaltigung und sexuelle Noetigung', \n",
    "              'Vergewaltigung und sexuelle Nötigung/Übergriffe §§ 177 Abs. 1, 2, 3, 4, 6, 7, 8 und 9, 178 StGB':'Vergewaltigung und sexuelle Noetigung', \n",
    "              'Vergewaltigung, sexuelle Nötigung und sexueller Übergriff im besonders schweren Fall einschl. mit Todesfolge §§ 177, 178 StGB':'Vergewaltigung und sexuelle Noetigung', 'Vorsaetzliche einfache Koerperverletzung § 223 StGB':'Vorsaetzliche einfache Koerperverletzung', 'Vorsätzliche einfache Körperverletzung § 223 StGB':'Vorsaetzliche einfache Koerperverletzung', 'Widerstand gegen Vollstreckungsbeamte und gleichstehende Personen §§ 113, 115 StGB':'Widerstand gegen Vollstreckungsbeamte und gleichstehende Personen', 'Widerstand gegen und tätlicher Angriff auf Vollstreckungsbeamte und gleichstehende Personen §§ 113-115 StGB':'Widerstand gegen und taetlicher Angriff auf Vollstreckungsbeamte und gleichstehende Personen', 'Wohnungseinbruchdiebstahl § 244 Abs. 1 Nr. 3 StGB darunter:':'Wohnungseinbruchdiebstahl', 'Wohnungseinbruchdiebstahl § 244 Abs. 1 Nr. 3, § 244a StGB':'Wohnungseinbruchdiebstahl', 'Wohnungseinbruchdiebstahl §§ 244 Abs. 1 Nr. 3 und Abs. 4,  244a StGB':'Wohnungseinbruchdiebstahl', 'Wohnungseinbruchdiebstahl §§ 244 Abs. 1 Nr. 3 und Abs. 4, 244a StGB':'Wohnungseinbruchdiebstahl', 'Wohnungseinbruchdiebstahl §§ 244 Abs. 1 Nr. 3, 244a StGB':'Wohnungseinbruchdiebstahl'}\n",
    "\n"
   ]
  },
  {
   "cell_type": "code",
   "execution_count": null,
   "metadata": {},
   "outputs": [],
   "source": [
    "crime_dict = {'Vergewaltigung, sexuelle N tigung und sexueller  bergriff im besonders schweren Fall einschl. mit Todesfolge    177, 178 StGB':'Vergewaltigung und sexuelle Noetigung', 'Vergewaltigung und sexuelle Noetigung    177 Abs. 2, 3 und 4, 178 StGB':'Vergewaltigung und sexuelle Noetigung','Vergewaltigung und sexuelle N tigung/ bergriffe    177 Abs. 1, 2, 3, 4, 6, 7, 8 und 9, 178 StGB':'Vergewaltigung und sexuelle Noetigung','Raub, raeuberische Erpressung und raeuberischer Angriff auf Kraftfahrer    249-252, 255, 316a StGB':'Raub, raeuberische Erpressung und raeuberischer Angriff auf Kraftfahrer','Raub, r uberische Erpressung und r uberischer Angriff auf Kraftfahrer    249-252, 255, 316a StGB':'Raub, raeuberische Erpressung und raeuberischer Angriff auf Kraftfahrer','Raub, r uberische Erpressung und r uberischer Angriff auf Kraftfahrer    249-252, 255, 316a StGB':'Raub, raeuberische Erpressung und raeuberischer Angriff auf Kraftfahrer','Raub, raeuberische Erpressung auf/gegen Geldinstitute, Postfilialen und -agenturen':'Raub, raeuberische Erpressung auf/gegen Geldinstitute, Postfilialen und -agenturen','Raub, r uberische Erpressung auf/gegen Geldinstitute, Postfilialen und -agenturen':'Raub, raeuberische Erpressung auf/gegen Geldinstitute, Postfilialen und -agenturen','Raub, r uberische Erpressung auf/gegen Geldinstitute, Postfilialen und -agenturen':'Raub, raeuberische Erpressung auf/gegen Geldinstitute, Postfilialen und -agenturen','Raub, raeuberische Erpressung auf/gegen sonstige Zahlstellen und Geschaefte':'Raub, raeuberische Erpressung auf/gegen sonstige Zahlstellen und Geschaefte':'Raub, raeuberische Erpressung auf/gegen sonstige Zahlstellen und Geschaefte','Raub, r uberische Erpressung auf/gegen sonstige Zahlstellen und Gesch fte':'Raub, raeuberische Erpressung auf/gegen sonstige Zahlstellen und Geschaefte','Raub, r uberische Erpressung auf/gegen sonstige Zahlstellen und Gesch fte':'Raub, raeuberische Erpressung auf/gegen sonstige Zahlstellen und Geschaefte',\n",
    "'Sonstige Raubueberfaelle auf Stra en, Wegen oder Plaetzen':'Sonstige Raubueberfaelle auf Straßen, Wegen oder Plaetzen','Sonstige Raub berf lle auf Stra en, Wegen oder Pl tzen':'Sonstige Raubueberfaelle auf Straßen, Wegen oder Plaetzen','Sonstige Raub berf lle auf Stra en, Wegen oder Pl tzen':'Sonstige Raubueberfaelle auf Straßen, Wegen oder Plaetzen','Raubueberfaelle in Wohnungen':'Raubueberfaelle in Wohnungen','Raub berf lle in Wohnungen':'Raubueberfaelle in Wohnungen','Gefaehrliche und schwere Koerperverletzung, Verstuemmelung weiblicher Genitalien    224, 226, 226a, 231 StGB':'Gefaehrliche und schwere Koerperverletzung, Verstuemmelung weiblicher Genitalien','Gef hrliche und schwere K rperverletzung, Verst mmelung weiblicher Genitalien    224, 226, 226a, 231 StGB':'Gefaehrliche und schwere Koerperverletzung, Verstuemmelung weiblicher Genitalien','Gef hrliche und schwere K rperverletzung, Verst mmelung weiblicher Genitalien    224, 226, 226a, 231 StGB ':'Gefaehrliche und schwere Koerperverletzung, Verstuemmelung weiblicher Genitalien','Vorsaetzliche einfache Koerperverletzung   223 StGB':'Vorsaetzliche einfache Koerperverletzung','Vors tzliche einfache K rperverletzung   223 StGB':'Vorsaetzliche einfache Koerperverletzung','Widerstand gegen und t tlicher Angriff auf Vollstreckungsbeamte und gleichstehende Personen    113-115 StGB':'Widerstand gegen und taetlicher Angriff auf Vollstreckungsbeamte und gleichstehende Personen','Widerstand gegen Vollstreckungsbeamte und gleichstehende Personen    113, 115 StGB':'Widerstand gegen Vollstreckungsbeamte und gleichstehende Personen','T tlicher Angriff auf Vollstreckungsbeamte und gleichstehende Personen    114, 115 StGB':'Taetlicher Angriff auf Vollstreckungsbeamte','Gewaltkriminalitaet':'Gewaltkriminalitaet','Gewaltkriminalit t':'Gewaltkriminalitaet','Mord, Totschlag und Toetung auf Verlangen':'Mord, Totschlag und Toetung auf Verlangen','Mord, Totschlag und T tung auf Verlangen':'Mord, Totschlag und Toetung auf Verlangen'}"
   ]
  },
  {
   "cell_type": "code",
   "execution_count": null,
   "metadata": {},
   "outputs": [],
   "source": []
  },
  {
   "cell_type": "markdown",
   "metadata": {},
   "source": []
  }
 ],
 "metadata": {
  "kernelspec": {
   "display_name": "Python 3",
   "language": "python",
   "name": "python3"
  },
  "language_info": {
   "codemirror_mode": {
    "name": "ipython",
    "version": 3
   },
   "file_extension": ".py",
   "mimetype": "text/x-python",
   "name": "python",
   "nbconvert_exporter": "python",
   "pygments_lexer": "ipython3",
   "version": "3.12.3"
  }
 },
 "nbformat": 4,
 "nbformat_minor": 2
}
