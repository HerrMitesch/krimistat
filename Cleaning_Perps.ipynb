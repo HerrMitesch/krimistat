{
 "cells": [
  {
   "cell_type": "code",
   "execution_count": 1,
   "metadata": {},
   "outputs": [],
   "source": [
    "import pandas as pd"
   ]
  },
  {
   "cell_type": "code",
   "execution_count": 2,
   "metadata": {},
   "outputs": [],
   "source": [
    "data_2016=pd.read_csv(\"Tatverdaechtige_Tabelle/Tatverdaechtige_2016.csv\",encoding='ISO-8859-1', sep=';')\n",
    "data_2017=pd.read_csv(\"Tatverdaechtige_Tabelle/Tatverdaechtige_2017.csv\",encoding='ISO-8859-1', sep=';')\n",
    "data_2018=pd.read_csv(\"Tatverdaechtige_Tabelle/Tatverdaechtige_2018.csv\",encoding='ISO-8859-1', sep=';')\n",
    "data_2019=pd.read_csv(\"Tatverdaechtige_Tabelle/Tatverdaechtige_2019.csv\",encoding='ISO-8859-1', sep=';')\n",
    "data_2020=pd.read_csv(\"Tatverdaechtige_Tabelle/Tatverdaechtige_2020.csv\",encoding='ISO-8859-1', sep=';')\n",
    "data_2021=pd.read_csv(\"Tatverdaechtige_Tabelle/Tatverdaechtige_2021.csv\",encoding='ISO-8859-1', sep=';')\n",
    "data_2022=pd.read_csv(\"Tatverdaechtige_Tabelle/Tatverdaechtige_2022.csv\",encoding='ISO-8859-1', sep=';')\n",
    "data_2023=pd.read_csv(\"Tatverdaechtige_Tabelle/Tatverdaechtige_2023.csv\",encoding='ISO-8859-1', sep=';')"
   ]
  },
  {
   "cell_type": "code",
   "execution_count": 3,
   "metadata": {},
   "outputs": [
    {
     "name": "stdout",
     "output_type": "stream",
     "text": [
      "26\n",
      "26\n",
      "26\n",
      "26\n",
      "26\n",
      "26\n",
      "26\n",
      "26\n"
     ]
    }
   ],
   "source": [
    "print(len(data_2016.columns))\n",
    "print(len(data_2017.columns))\n",
    "print(len(data_2018.columns))\n",
    "print(len(data_2019.columns))\n",
    "print(len(data_2020.columns))\n",
    "print(len(data_2021.columns))\n",
    "print(len(data_2022.columns))\n",
    "print(len(data_2023.columns))"
   ]
  },
  {
   "cell_type": "code",
   "execution_count": 4,
   "metadata": {},
   "outputs": [],
   "source": [
<<<<<<< HEAD
=======
    "#data_2015=data_2015.drop('Unnamed: 17',axis=1)\n",
    "#data_2022=data_2022.drop('Unnamed: 17',axis=1)\n",
    "#data_2023=data_2023.drop('Unnamed: 17',axis=1)"
   ]
  },
  {
   "cell_type": "code",
   "execution_count": 5,
   "metadata": {},
   "outputs": [
    {
     "name": "stdout",
     "output_type": "stream",
     "text": [
      "Index(['Schluesselzahl der Tat', 'Straftat', 'Gemeindeschlüssel', 'Stadt',\n",
      "       'Sexus', 'Tatverdaechtige insgesamt - Anzahl',\n",
      "       'Kinder bis unter 6 Jahre - Anzahl',\n",
      "       'Kinder 6 bis unter 8 Jahre Anzahl',\n",
      "       'Kinder 8 bis unter 10 Jahre - Anzahl',\n",
      "       'Kinder 10 bis unter 12 Jahre - Anzahl',\n",
      "       'Kinder 12 bis unter 14 Jahre - Anzahl',\n",
      "       'Kinder bis unter 14 Jahre insgesamt (Anzahl Spalte 5 bis 9)',\n",
      "       'Jugendliche 14 bis unter 16 Jahre - Anzahl',\n",
      "       'Jugendliche 16 bis unter 18 Jahre - Anzahl',\n",
      "       'Jugendliche 14 bis unter 18 Jahre insgesamt (Anzahl Spalte 11 und 12)',\n",
      "       'Heranwachsende 18 bis unter 21 Jahre - Anzahl',\n",
      "       'Tatverdaechtige insgesamt unter 21 Jahre (Anzahl Spalte 10, 13 und 14)',\n",
      "       'Erwachsene 21 bis unter 23 Jahre - Anzahl',\n",
      "       'Erwachsene 23 bis unter 25 Jahre - Anzahl',\n",
      "       'Erwachsene 21 bis unter 25 Jahre (Anzahl Spalte 16 und 17)',\n",
      "       'Erwachsene 25 bis unter 30 Jahre', 'Erwachsene 30 bis unter 40 Jahre',\n",
      "       'Erwachsene 40 bis unter 50 Jahre', 'Erwachsene 50 bis unter 60 Jahre',\n",
      "       'Erwachsene 60 Jahre und aelter',\n",
      "       'Erwachsene ab 21 Jahre (Anzahl Spalten 18 bis 23)'],\n",
      "      dtype='object')\n"
     ]
    }
   ],
   "source": [
    "print(data_2014.columns)\n",
>>>>>>> 88e9c38396df11eae1ba0a61cc73a7f141d11622
    "renameDict = {'Schluesselzahl der Tat':'Schluessel','Gemeindeschlüssel':'Gemeindeschluessel','Tatverdaechtige insgesamt - Anzahl':'gesamt','Kinder bis unter 6 Jahre - Anzahl':'Alter_unter_6','Kinder 6 bis unter 8 Jahre Anzahl':'Alter_6_bis_8','Kinder 8 bis unter 10 Jahre - Anzahl':'Alter_8_bis_10','Kinder 10 bis unter 12 Jahre - Anzahl':'Alter_10_bis_12',\n",
    "       'Kinder 12 bis unter 14 Jahre - Anzahl':'Alter_12_bis_14',\n",
    "       'Kinder bis unter 14 Jahre insgesamt (Anzahl Spalte 5 bis 9)':'Kinder_gesamt',\n",
    "        'Kinder bis unter 14 Jahre insgesamt (Anzahl Spalte 7 bis 11)':'Kinder_gesamt',\n",
    "       'Jugendliche 14 bis unter 16 Jahre - Anzahl':'Alter_14_bis_16',\n",
    "       'Jugendliche 16 bis unter 18 Jahre - Anzahl':'Alter_16_bis_18',\n",
    "       'Jugendliche 14 bis unter 18 Jahre insgesamt (Anzahl Spalte 11 und 12)':'Jugendliche_gesamt',\n",
    "              'Jugendliche 14 bis unter 18 Jahre insgesamt (Anzahl Spalte 13 und 14)':'Jugendliche_gesamt',\n",
    "       'Heranwachsende 18 bis unter 21 Jahre - Anzahl':'Alter_18_bis_21',\n",
    "       'Tatverdaechtige insgesamt unter 21 Jahre (Anzahl Spalte 10, 13 und 14)':'unter_21_gesamt',\n",
    "              'Tatverdaechtige insgesamt unter 21 Jahre (Anzahl Spalte 12, 15 und 16)':'unter_21_gesamt',\n",
    "       'Erwachsene 21 bis unter 23 Jahre - Anzahl':'Alter_21_bis_23',\n",
    "       'Erwachsene 23 bis unter 25 Jahre - Anzahl':'Alter_23_bis_25',\n",
    "       'Erwachsene 21 bis unter 25 Jahre (Anzahl Spalte 16 und 17)':'Alter_21_bis_25',\n",
    "              'Erwachsene 21 bis unter 25 Jahre (Anzahl Spalte 18 und 19)':'Alter_21_bis_25',\n",
    "       'Erwachsene 25 bis unter 30 Jahre':'Alter_25_bis_30', 'Erwachsene 30 bis unter 40 Jahre':'Alter_30_bis_40',\n",
    "       'Erwachsene 40 bis unter 50 Jahre':'Alter_40_bis_50', 'Erwachsene 50 bis unter 60 Jahre':'Alter_50_bis_60',\n",
    "       'Erwachsene 60 Jahre und aelter':'Alter_ueber_60',\n",
    "       'Erwachsene ab 21 Jahre (Anzahl Spalten 18 bis 23)':'Erwachsene_gesamt',\n",
    "              'Erwachsene ab 21 Jahre (Anzahl Spalten 20 bis 25)':'Erwachsene_gesamt'}\n",
    "data_2016 = data_2016.rename(columns=renameDict)\n",
    "data_2017 = data_2017.rename(columns=renameDict)\n",
    "data_2018 = data_2018.rename(columns=renameDict)\n",
    "data_2019 = data_2019.rename(columns=renameDict)\n",
    "data_2020 = data_2020.rename(columns=renameDict)\n",
    "data_2021 = data_2021.rename(columns=renameDict)\n",
    "data_2022 = data_2022.rename(columns=renameDict)\n",
    "data_2023 = data_2023.rename(columns=renameDict)\n"
   ]
  },
  {
   "cell_type": "code",
<<<<<<< HEAD
   "execution_count": 5,
=======
   "execution_count": 6,
>>>>>>> 88e9c38396df11eae1ba0a61cc73a7f141d11622
   "metadata": {},
   "outputs": [
    {
     "name": "stdout",
     "output_type": "stream",
     "text": [
      "  Schluessel              Straftat  Gemeindeschluessel     Stadt Sexus  \\\n",
      "0     ------  Straftaten insgesamt             5334002    Aachen     M   \n",
      "1     ------  Straftaten insgesamt             5334002    Aachen     W   \n",
      "2     ------  Straftaten insgesamt             5334002    Aachen     X   \n",
      "3     ------  Straftaten insgesamt             9761000  Augsburg     M   \n",
      "4     ------  Straftaten insgesamt             9761000  Augsburg     W   \n",
      "\n",
      "   gesamt  Alter_unter_6  Alter_6_bis_8  Alter_8_bis_10 Alter_10_bis_12  ...  \\\n",
      "0  10,065             15             15              25              48  ...   \n",
      "1   2,749             16              5              10              28  ...   \n",
      "2  12,814             31             20              35              76  ...   \n",
      "3   8,910              0             14              39              93  ...   \n",
      "4   3,040              2              3               8              42  ...   \n",
      "\n",
      "  Alter_21_bis_23 Alter_23_bis_25 Alter_21_bis_25 Alter_25_bis_30  \\\n",
      "0             646             706           1,352           1,572   \n",
      "1             120             108             228             265   \n",
      "2             766             814           1,580           1,837   \n",
      "3             646             665           1,311           1,268   \n",
      "4             152             132             284             300   \n",
      "\n",
      "  Alter_30_bis_40 Alter_40_bis_50 Alter_50_bis_60 Alter_ueber_60  \\\n",
      "0           2,374           1,377             801            492   \n",
      "1             550             385             264            188   \n",
      "2           2,924           1,762           1,065            680   \n",
      "3           1,808           1,217             754            498   \n",
      "4             640             443             280            214   \n",
      "\n",
      "  Erwachsene_gesamt  Jahr  \n",
      "0             7,968  2023  \n",
      "1             1,880  2023  \n",
      "2             9,848  2023  \n",
      "3             6,856  2023  \n",
      "4             2,161  2023  \n",
      "\n",
      "[5 rows x 27 columns]\n"
     ]
    }
   ],
   "source": [
    "data_2016[\"Jahr\"]=2016\n",
    "data_2017[\"Jahr\"]=2017\n",
    "data_2018[\"Jahr\"]=2018\n",
    "data_2019[\"Jahr\"]=2019\n",
    "data_2020[\"Jahr\"]=2020\n",
    "data_2021[\"Jahr\"]=2021\n",
    "data_2022[\"Jahr\"]=2022\n",
    "data_2023[\"Jahr\"]=2023\n",
    "print(data_2023.head())"
   ]
  },
  {
   "cell_type": "code",
<<<<<<< HEAD
   "execution_count": 6,
=======
   "execution_count": 7,
>>>>>>> 88e9c38396df11eae1ba0a61cc73a7f141d11622
   "metadata": {},
   "outputs": [],
   "source": [
    "data_2016.to_csv(\"Tatverdaechtige_2016_clean.csv\",index=False)\n",
    "data_2017.to_csv(\"Tatverdaechtige_2017_clean.csv\",index=False)\n",
    "data_2018.to_csv(\"Tatverdaechtige_2018_clean.csv\",index=False)\n",
    "data_2019.to_csv(\"Tatverdaechtige_2019_clean.csv\",index=False)\n",
    "data_2020.to_csv(\"Tatverdaechtige_2020_clean.csv\",index=False)\n",
    "data_2021.to_csv(\"Tatverdaechtige_2021_clean.csv\",index=False)\n",
    "data_2022.to_csv(\"Tatverdaechtige_2022_clean.csv\",index=False)\n",
    "data_2023.to_csv(\"Tatverdaechtige_2023_clean.csv\",index=False)"
   ]
  },
  {
   "cell_type": "code",
   "execution_count": 7,
   "metadata": {},
   "outputs": [
    {
     "name": "stdout",
     "output_type": "stream",
     "text": [
      "9840\n",
      "9963\n",
      "10206\n",
      "10332\n",
      "10332\n",
      "10209\n",
      "10332\n",
      "10209\n"
     ]
    }
   ],
   "source": [
    "print(len(data_2016))\n",
    "print(len(data_2017))\n",
    "print(len(data_2018))\n",
    "print(len(data_2019))\n",
    "print(len(data_2020))\n",
    "print(len(data_2021))\n",
    "print(len(data_2022))\n",
    "print(len(data_2023))"
   ]
  },
  {
   "cell_type": "code",
   "execution_count": 8,
   "metadata": {},
   "outputs": [],
   "source": [
    "combined_df = pd.concat([data_2016,data_2017,data_2018,data_2019,data_2020,data_2021,data_2022,data_2023], ignore_index=True)"
   ]
  },
  {
   "cell_type": "code",
<<<<<<< HEAD
   "execution_count": 9,
=======
   "execution_count": 11,
>>>>>>> 88e9c38396df11eae1ba0a61cc73a7f141d11622
   "metadata": {},
   "outputs": [
    {
     "name": "stdout",
     "output_type": "stream",
     "text": [
      "<class 'pandas.core.frame.DataFrame'>\n",
      "RangeIndex: 81423 entries, 0 to 81422\n",
      "Data columns (total 27 columns):\n",
      " #   Column              Non-Null Count  Dtype  \n",
      "---  ------              --------------  -----  \n",
<<<<<<< HEAD
      " 0   Schluessel          57807 non-null  float64\n",
      " 1   Straftat            81423 non-null  object \n",
      " 2   Gemeindeschluessel  81423 non-null  int64  \n",
      " 3   Stadt               81423 non-null  object \n",
      " 4   Sexus               81423 non-null  object \n",
      " 5   gesamt              81423 non-null  int64  \n",
      " 6   Alter_unter_6       81423 non-null  int64  \n",
      " 7   Alter_6_bis_8       81423 non-null  int64  \n",
      " 8   Alter_8_bis_10      81423 non-null  int64  \n",
      " 9   Alter_10_bis_12     81423 non-null  int64  \n",
      " 10  Alter_12_bis_14     81423 non-null  int64  \n",
      " 11  Kinder_gesamt       81423 non-null  int64  \n",
      " 12  Alter_14_bis_16     81423 non-null  int64  \n",
      " 13  Alter_16_bis_18     81423 non-null  int64  \n",
      " 14  Jugendliche_gesamt  81423 non-null  int64  \n",
      " 15  Alter_18_bis_21     81423 non-null  int64  \n",
      " 16  unter_21_gesamt     81423 non-null  int64  \n",
      " 17  Alter_21_bis_23     81423 non-null  int64  \n",
      " 18  Alter_23_bis_25     81423 non-null  int64  \n",
      " 19  Alter_21_bis_25     81423 non-null  int64  \n",
      " 20  Alter_25_bis_30     81423 non-null  int64  \n",
      " 21  Alter_30_bis_40     81423 non-null  int64  \n",
      " 22  Alter_40_bis_50     81423 non-null  int64  \n",
      " 23  Alter_50_bis_60     81423 non-null  int64  \n",
      " 24  Alter_ueber_60      81423 non-null  int64  \n",
      " 25  Erwachsene_gesamt   81423 non-null  int64  \n",
      " 26  Jahr                81423 non-null  int64  \n",
      "dtypes: float64(1), int64(23), object(3)\n",
      "memory usage: 16.8+ MB\n",
=======
      " 0   Schluessel          70431 non-null  float64\n",
      " 1   Straftat            99555 non-null  object \n",
      " 2   Gemeindeschluessel  99555 non-null  int64  \n",
      " 3   Stadt               99555 non-null  object \n",
      " 4   Sexus               99555 non-null  object \n",
      " 5   gesamt              99555 non-null  int64  \n",
      " 6   Alter_unter_6       99555 non-null  int64  \n",
      " 7   Alter_6_bis_8       99555 non-null  int64  \n",
      " 8   Alter_8_bis_10      99555 non-null  int64  \n",
      " 9   Alter_10_bis_12     99555 non-null  int64  \n",
      " 10  Alter_12_bis_14     99555 non-null  int64  \n",
      " 11  Kinder_gesamt       99555 non-null  int64  \n",
      " 12  Alter_14_bis_16     99555 non-null  int64  \n",
      " 13  Alter_16_bis_18     99555 non-null  int64  \n",
      " 14  Jugendliche_gesamt  99555 non-null  int64  \n",
      " 15  Alter_18_bis_21     99555 non-null  int64  \n",
      " 16  unter_21_gesamt     99555 non-null  int64  \n",
      " 17  Alter_21_bis_23     99555 non-null  int64  \n",
      " 18  Alter_23_bis_25     99555 non-null  int64  \n",
      " 19  Alter_21_bis_25     99555 non-null  int64  \n",
      " 20  Alter_25_bis_30     99555 non-null  int64  \n",
      " 21  Alter_30_bis_40     99555 non-null  int64  \n",
      " 22  Alter_40_bis_50     99555 non-null  int64  \n",
      " 23  Alter_50_bis_60     99555 non-null  int64  \n",
      " 24  Alter_ueber_60      99555 non-null  int64  \n",
      " 25  Erwachsene_gesamt   99555 non-null  int64  \n",
      " 26  Jahr                99555 non-null  int64  \n",
      "dtypes: float64(1), int64(23), object(3)\n",
      "memory usage: 20.5+ MB\n",
>>>>>>> 88e9c38396df11eae1ba0a61cc73a7f141d11622
      "None\n"
     ]
    }
   ],
   "source": [
    "numeric_columns = [\"Schluessel\",\"Gemeindeschluessel\",\"gesamt\",\"Alter_unter_6\",\"Alter_6_bis_8\",\"Alter_8_bis_10\",\"Alter_10_bis_12\",'Alter_12_bis_14', 'Kinder_gesamt',\n",
    "       'Alter_14_bis_16', 'Alter_16_bis_18', 'Jugendliche_gesamt',\n",
    "       'Alter_18_bis_21', 'unter_21_gesamt', 'Alter_21_bis_23',\n",
    "       'Alter_23_bis_25', 'Alter_21_bis_25', 'Alter_25_bis_30',\n",
    "       'Alter_30_bis_40', 'Alter_40_bis_50', 'Alter_50_bis_60',\n",
    "       'Alter_ueber_60', 'Erwachsene_gesamt']\n",
    "for column in numeric_columns:\n",
    "    combined_df[column] = pd.to_numeric(combined_df[column].astype(str).str.replace(\",\", \"\"), errors=\"coerce\")\n",
    "print(combined_df.info())"
   ]
  },
  {
   "cell_type": "code",
<<<<<<< HEAD
   "execution_count": 11,
   "metadata": {},
   "outputs": [
    {
     "name": "stdout",
     "output_type": "stream",
     "text": [
      "   Schluessel              Straftat  Gemeindeschluessel              Stadt  \\\n",
      "0         NaN  Straftaten insgesamt             5334002             Aachen   \n",
      "1         NaN  Straftaten insgesamt             9761000           Augsburg   \n",
      "2         NaN  Straftaten insgesamt             5378004  Bergisch Gladbach   \n",
      "3         NaN  Straftaten insgesamt            11000000             Berlin   \n",
      "4         NaN  Straftaten insgesamt             5711000          Bielefeld   \n",
      "\n",
      "  Sexus  gesamt  Alter_unter_6  Alter_6_bis_8  Alter_8_bis_10  \\\n",
      "0     M    8965             12              4              16   \n",
      "1     M    8361              1              8              22   \n",
      "2     M    2053              0              0               5   \n",
      "3     M  109319            201            207             428   \n",
      "4     M    9176              3              2              22   \n",
      "\n",
      "   Alter_10_bis_12  ...  Alter_21_bis_23  Alter_23_bis_25  Alter_21_bis_25  \\\n",
      "0               30  ...              684              636             1320   \n",
      "1               40  ...              647              603             1250   \n",
      "2                7  ...              129              106              235   \n",
      "3              761  ...             6360             6382            12742   \n",
      "4               42  ...              686              662             1348   \n",
      "\n",
      "   Alter_25_bis_30  Alter_30_bis_40  Alter_40_bis_50  Alter_50_bis_60  \\\n",
      "0             1432             1778             1155              723   \n",
      "1             1219             1737             1174              705   \n",
      "2              269              392              359              188   \n",
      "3            17013            25936            17197            10859   \n",
      "4             1490             1965             1267              713   \n",
      "\n",
      "   Alter_ueber_60  Erwachsene_gesamt  Jahr  \n",
      "0             404               6812  2016  \n",
      "1             447               6532  2016  \n",
      "2             149               1592  2016  \n",
      "3            6212              89959  2016  \n",
      "4             403               7186  2016  \n",
      "\n",
      "[5 rows x 27 columns]\n"
     ]
    }
   ],
=======
   "execution_count": 13,
   "metadata": {},
   "outputs": [],
>>>>>>> 88e9c38396df11eae1ba0a61cc73a7f141d11622
   "source": [
    "crime_dict = {'Beförderungserschleichung':'Befoerderungserschleichung', \n",
    "              'Beguenstigung, Strafvereitelung (ohne Strafvereitelung im Amt), Hehlerei und Geldwaesche §§ 257, 258, 259-261 StGB':'Beguenstigung, Strafvereitelung, Hehlerei und Geldwaesche', \n",
    "              'Begünstigung, Strafvereitelung (ohne Strafvereitelung im Amt), Hehlerei und Geldwäsche §§ 257, 258, 259-261 StGB':'Beguenstigung, Strafvereitelung, Hehlerei und Geldwaesche', \n",
    "              'Betrug §§ 263, 263a, 264, 264a, 265, 265a, 265b StGB':'Betrug', \n",
    "              'Betrug §§ 263, 263a, 264, 264a, 265, 265a-e StGB':'Betrug', \n",
    "              'Betrug §§ 263, 263a, 264, 264a, 265, 265a-e StGB ':'Betrug', \n",
    "              'Brandstiftung und Herbeifuehren einer Brandgefahr §§ 306-306d, 306f StGB':'Brandstiftung', \n",
    "              'Brandstiftung und Herbeiführen einer Brandgefahr §§ 306-306d, 306f StGB':'Brandstiftung', \n",
    "              'Computerkriminalität':'Computerkriminalitaet', \n",
    "              'Cybercrime im engeren Sinne':'Cybercrime',\n",
    "              'Diebstahl ohne erschwerende Umstaende §§ 242, 247, 248a-c StGB und zwar:':'Diebstahl ohne erschwerende Umstaende', \n",
    "              'Diebstahl ohne erschwerende Umstände §§ 242, 247, 248a-c StGB und zwar:':'Diebstahl ohne erschwerende Umstaende', \n",
    "              'Diebstahl unter erschwerenden Umstaenden §§ 243-244a StGB und zwar:':'Diebstahl unter erschwerenden Umstaenden', \n",
    "              'Diebstahl unter erschwerenden Umständen §§ 243-244a StGB und zwar:':'Diebstahl unter erschwerenden Umstaenden', \n",
    "              'Erschleichen von Leistungen § 265a StGB':'Erschleichen von Leistungen', \n",
    "              'Gefaehrliche und schwere Koerperverletzung, Verstuemmelung weiblicher Genitalien §§ 224, 226, 226a, 231 StGB':'Gefaehrliche und schwere Koerperverletzung, Verstuemmelung weiblicher Genitalien', \n",
    "              'Gefährliche und schwere Körperverletzung, Verstümmelung weiblicher Genitalien §§ 224, 226, 226a, 231 StGB':'Gefaehrliche und schwere Koerperverletzung, Verstuemmelung weiblicher Genitalien', \n",
    "              'Gefährliche und schwere Körperverletzung, Verstümmelung weiblicher Genitalien §§ 224, 226, 226a, 231 StGB ':'Gefaehrliche und schwere Koerperverletzung, Verstuemmelung weiblicher Genitalien', \n",
    "              'Gewaltkriminalität':'Gewaltkriminalitaet', \n",
    "              'IuK-Kriminalität im engeren Sinne':'IuK-Kriminalitaet im engeren Sinne', \n",
    "              'IuK-Kriminalität im engeren Sinne (SZ: 517500, 517900, 543000, 674200, 678000)':'IuK-Kriminalitaet im engeren Sinne',\n",
    "              'Mord, Totschlag und Tötung auf Verlangen':'Mord, Totschlag und Toetung auf Verlangen',   \n",
    "              'Raub, raeuberische Erpressung und raeuberischer Angriff auf Kraftfahrer §§ 249-252, 255, 316a StGB':'Raub, raeuberische Erpressung und raeuberischer Angriff auf Kraftfahrer', \n",
    "              'Raub, räuberische Erpressung auf/gegen Geldinstitute, Postfilialen und -agenturen':'Raub, raeuberische Erpressung auf/gegen Geldinstitute, Postfilialen und -agenturen', \n",
    "              'Raub, räuberische Erpressung auf/gegen sonstige Kassenräume und Geschäfte':'Raub, raeuberische Erpressung auf/gegen sonstige Kassenraeume und Geschaefte', \n",
    "              'Raub, räuberische Erpressung auf/gegen sonstige Kassenräume und Geschäfte ':'Raub, raeuberische Erpressung auf/gegen sonstige Kassenraeume und Geschaefte', \n",
    "              'Raub, räuberische Erpressung auf/gegen sonstige Zahlstellen und Geschäfte':'Raub, raeuberische Erpressung auf/gegen sonstige Zahlstellen und Geschaefte', \n",
    "              'Raub, räuberische Erpressung und räuberischer Angriff auf Kraftfahrer §§ 249-252, 255, 316a StGB':'Raub, raeuberische Erpressung und raeuberischer Angriff auf Kraftfahrer', \n",
    "              'Raubüberfälle in Wohnungen':'Raubueberfaelle in Wohnungen', \n",
    "              'Rauschgiftdelikte (soweit nicht bereits mit anderer Schluesselzahl erfasst)':'Rauschgiftdelikte', \n",
    "              'Rauschgiftdelikte (soweit nicht bereits mit anderer Schlüsselzahl erfasst)':'Rauschgiftdelikte', \n",
    "              'Rauschgiftdelikte (soweit nicht bereits mit anderer Schlüsselzahl erfasst) ':'Rauschgiftdelikte', \n",
    "              'Sachbeschaedigung §§ 303-305a StGB':'Sachbeschaedigung', \n",
    "              'Sachbeschädigung durch Graffiti insgesamt':'Sachbeschaedigung durch Graffiti insgesamt', \n",
    "              'Sachbeschädigung §§ 303-305a StGB':'Sachbeschaedigung', \n",
    "              'Sonstige Raubüberfälle auf Straßen, Wegen oder Plätzen':'Sonstige Raubueberfaelle auf Straßen, Wegen oder Plaetzen', \n",
    "              'Straftaten gegen das Aufenthalts-, das Asyl- und das Freizügigkeitsgesetz/EU':'Straftaten gegen das Aufenthalts-, das Asyl- und das Freizuegigkeitsgesetz/EU', \n",
    "              'Straftaten gegen das Aufenthalts-, das Asylverfahrens- und das Freizügigkeitsgesetz/EU':'Straftaten gegen das Aufenthalts-, das Asyl- und das Freizuegigkeitsgesetz/EU', \n",
    "              'Straftaten insgesamt, jedoch ohne Verstöße gegen das Aufenthalts-, das Asyl- und das Freizügigkeitsgesetz/EU (Schlüssel 725000)':'Straftaten insgesamt, jedoch ohne Verstoeße gegen das Aufenthalts-, das Asyl- und das Freizuegigkeitsgesetz/EU', \n",
    "              'Straftaten insgesamt, jedoch ohne Verstöße gegen das Aufenthalts-, das Asylverfahrens- und das Freizügigkeitsgesetz/EU (Schlüssel 725000)':'Straftaten insgesamt, jedoch ohne Verstoeße gegen das Aufenthalts-, das Asyl- und das Freizuegigkeitsgesetz/EU', \n",
    "              'Straftaten insgesamt, jedoch ohne Verstoeße gegen das Aufenthalts-, das Asyl- und das Freizuegigkeitsgesetz/EU (Schluessel 725000)':\"Straftaten insgesamt, jedoch ohne Verstoeße gegen das Aufenthalts-, das Asyl- und das Freizuegigkeitsgesetz/EU\", 'Straßenkriminalität':'Straßenkriminalitaet', \n",
    "              'Tageswohnungseinbruchdiebstahl § 244 Abs. 1 Nr. 3, § 244a StGB':'Tageswohnungseinbruchdiebstahl', \n",
    "              'Tageswohnungseinbruchdiebstahl §§ 244 Abs. 1 Nr. 3 und Abs. 4, 244a StGB':'Tageswohnungseinbruchdiebstahl', \n",
    "              'Tageswohnungseinbruchdiebstahl §§ 244 Abs. 1 Nr. 3, 244a StGB':'Tageswohnungseinbruchdiebstahl', \n",
    "              'Tätlicher Angriff auf Vollstreckungsbeamte und gleichstehende Personen §§ 114, 115 StGB':'Taetlicher Angriff auf Vollstreckungsbeamte', \n",
    "              'Unerlaubt eingereiste/aufhaeltige Personen (SZ: 725100, 725700)':'Unerlaubt eingereiste/aufhaeltige Personen', \n",
    "              'Unerlaubt eingereiste/aufhältige Personen (SZ: 725100, 725700)':'Unerlaubt eingereiste/aufhaeltige Personen', \n",
    "              'Unterschlagung §§ 246, 247, 248a StGB':'Unterschlagung', \n",
    "              'Unterschlagung §§ 246, 247, 248a StGB ':'Unterschlagung', \n",
    "              'Urkundenfaelschung §§ 267-271, 273-279, 281 StGB':'Urkundenfaelschung', \n",
    "              'Urkundenfälschung §§ 267-271, 273-279, 281 StGB':'Urkundenfaelschung', \n",
    "              'Urkundenfälschung §§ 267-271, 273-279, 281 StGB ':'Urkundenfaelschung', \n",
    "              'Vergewaltigung und sexuelle Noetigung §§ 177 Abs. 2, 3 und 4, 178 StGB':'Vergewaltigung und sexuelle Noetigung', \n",
    "              'Vergewaltigung und sexuelle Nötigung §§ 177 Abs. 2, 3 und 4, 178 StGB':'Vergewaltigung und sexuelle Noetigung', \n",
    "              'Vergewaltigung und sexuelle Nötigung/Übergriffe §§ 177 Abs. 1, 2, 3, 4, 6, 7, 8 und 9, 178 StGB':'Vergewaltigung und sexuelle Noetigung', \n",
    "              'Vergewaltigung, sexuelle Nötigung und sexueller Übergriff im besonders schweren Fall einschl. mit Todesfolge §§ 177, 178 StGB':'Vergewaltigung und sexuelle Noetigung', 'Vorsaetzliche einfache Koerperverletzung § 223 StGB':'Vorsaetzliche einfache Koerperverletzung', 'Vorsätzliche einfache Körperverletzung § 223 StGB':'Vorsaetzliche einfache Koerperverletzung', 'Widerstand gegen Vollstreckungsbeamte und gleichstehende Personen §§ 113, 115 StGB':'Widerstand gegen Vollstreckungsbeamte und gleichstehende Personen', 'Widerstand gegen und tätlicher Angriff auf Vollstreckungsbeamte und gleichstehende Personen §§ 113-115 StGB':'Widerstand gegen und taetlicher Angriff auf Vollstreckungsbeamte und gleichstehende Personen', 'Wohnungseinbruchdiebstahl § 244 Abs. 1 Nr. 3 StGB darunter:':'Wohnungseinbruchdiebstahl', 'Wohnungseinbruchdiebstahl § 244 Abs. 1 Nr. 3, § 244a StGB':'Wohnungseinbruchdiebstahl', 'Wohnungseinbruchdiebstahl §§ 244 Abs. 1 Nr. 3 und Abs. 4,  244a StGB':'Wohnungseinbruchdiebstahl', 'Wohnungseinbruchdiebstahl §§ 244 Abs. 1 Nr. 3 und Abs. 4, 244a StGB':'Wohnungseinbruchdiebstahl', 'Wohnungseinbruchdiebstahl §§ 244 Abs. 1 Nr. 3, 244a StGB':'Wohnungseinbruchdiebstahl'}\n",
    "\n",
    "combined_df['Vereinfachte_Straftat'] = combined_df['Straftat'].replace(crime_dict)"
   ]
  },
  {
   "cell_type": "code",
<<<<<<< HEAD
   "execution_count": 10,
=======
   "execution_count": 14,
>>>>>>> 88e9c38396df11eae1ba0a61cc73a7f141d11622
   "metadata": {},
   "outputs": [],
   "source": [
    "combined_df.to_csv(\"Tatverdaechtige_combined_clean.csv\",index=False)"
   ]
  },
  {
   "cell_type": "code",
   "execution_count": null,
   "metadata": {},
   "outputs": [],
   "source": []
  }
 ],
 "metadata": {
  "kernelspec": {
   "display_name": "Python 3",
   "language": "python",
   "name": "python3"
  },
  "language_info": {
   "codemirror_mode": {
    "name": "ipython",
    "version": 3
   },
   "file_extension": ".py",
   "mimetype": "text/x-python",
   "name": "python",
   "nbconvert_exporter": "python",
   "pygments_lexer": "ipython3",
   "version": "3.12.3"
  }
 },
 "nbformat": 4,
 "nbformat_minor": 4
}
