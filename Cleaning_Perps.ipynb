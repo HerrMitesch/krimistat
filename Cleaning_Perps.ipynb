{
 "cells": [
  {
   "cell_type": "code",
   "execution_count": 1,
   "metadata": {},
   "outputs": [],
   "source": [
    "import pandas as pd"
   ]
  },
  {
   "cell_type": "code",
   "execution_count": 4,
   "metadata": {},
   "outputs": [],
   "source": [
    "data_2014=pd.read_csv(\"Tatverdaechtige_Tabelle/Tatverdaechtige_2014.csv\",encoding='ISO-8859-1', sep=';')\n",
    "data_2015=pd.read_csv(\"Tatverdaechtige_Tabelle/Tatverdaechtige_2015.csv\",encoding='ISO-8859-1', sep=';')\n",
    "data_2016=pd.read_csv(\"Tatverdaechtige_Tabelle/Tatverdaechtige_2016.csv\",encoding='ISO-8859-1', sep=';')\n",
    "data_2017=pd.read_csv(\"Tatverdaechtige_Tabelle/Tatverdaechtige_2017.csv\",encoding='ISO-8859-1', sep=';')\n",
    "data_2018=pd.read_csv(\"Tatverdaechtige_Tabelle/Tatverdaechtige_2018.csv\",encoding='ISO-8859-1', sep=';')\n",
    "data_2019=pd.read_csv(\"Tatverdaechtige_Tabelle/Tatverdaechtige_2019.csv\",encoding='ISO-8859-1', sep=';')\n",
    "data_2020=pd.read_csv(\"Tatverdaechtige_Tabelle/Tatverdaechtige_2020.csv\",encoding='ISO-8859-1', sep=';')\n",
    "data_2021=pd.read_csv(\"Tatverdaechtige_Tabelle/Tatverdaechtige_2021.csv\",encoding='ISO-8859-1', sep=';')\n",
    "data_2022=pd.read_csv(\"Tatverdaechtige_Tabelle/Tatverdaechtige_2022.csv\",encoding='ISO-8859-1', sep=';')\n",
    "data_2023=pd.read_csv(\"Tatverdaechtige_Tabelle/Tatverdaechtige_2023.csv\",encoding='ISO-8859-1', sep=';')"
   ]
  },
  {
   "cell_type": "code",
   "execution_count": 5,
   "metadata": {},
   "outputs": [
    {
     "name": "stdout",
     "output_type": "stream",
     "text": [
      "26\n",
      "26\n",
      "26\n",
      "26\n",
      "26\n",
      "26\n",
      "26\n",
      "26\n",
      "26\n",
      "26\n"
     ]
    }
   ],
   "source": [
    "print(len(data_2014.columns))\n",
    "print(len(data_2015.columns))\n",
    "print(len(data_2016.columns))\n",
    "print(len(data_2017.columns))\n",
    "print(len(data_2018.columns))\n",
    "print(len(data_2019.columns))\n",
    "print(len(data_2020.columns))\n",
    "print(len(data_2021.columns))\n",
    "print(len(data_2022.columns))\n",
    "print(len(data_2023.columns))"
   ]
  },
  {
   "cell_type": "code",
   "execution_count": 91,
   "metadata": {},
   "outputs": [],
   "source": [
    "#data_2015=data_2015.drop('Unnamed: 17',axis=1)\n",
    "#data_2022=data_2022.drop('Unnamed: 17',axis=1)\n",
    "#data_2023=data_2023.drop('Unnamed: 17',axis=1)"
   ]
  },
  {
   "cell_type": "code",
   "execution_count": 6,
   "metadata": {},
   "outputs": [
    {
     "name": "stdout",
     "output_type": "stream",
     "text": [
      "Index(['Schluesselzahl der Tat', 'Straftat', 'Gemeindeschlüssel', 'Stadt',\n",
      "       'Sexus', 'Tatverdaechtige insgesamt - Anzahl',\n",
      "       'Kinder bis unter 6 Jahre - Anzahl',\n",
      "       'Kinder 6 bis unter 8 Jahre Anzahl',\n",
      "       'Kinder 8 bis unter 10 Jahre - Anzahl',\n",
      "       'Kinder 10 bis unter 12 Jahre - Anzahl',\n",
      "       'Kinder 12 bis unter 14 Jahre - Anzahl',\n",
      "       'Kinder bis unter 14 Jahre insgesamt (Anzahl Spalte 5 bis 9)',\n",
      "       'Jugendliche 14 bis unter 16 Jahre - Anzahl',\n",
      "       'Jugendliche 16 bis unter 18 Jahre - Anzahl',\n",
      "       'Jugendliche 14 bis unter 18 Jahre insgesamt (Anzahl Spalte 11 und 12)',\n",
      "       'Heranwachsende 18 bis unter 21 Jahre - Anzahl',\n",
      "       'Tatverdaechtige insgesamt unter 21 Jahre (Anzahl Spalte 10, 13 und 14)',\n",
      "       'Erwachsene 21 bis unter 23 Jahre - Anzahl',\n",
      "       'Erwachsene 23 bis unter 25 Jahre - Anzahl',\n",
      "       'Erwachsene 21 bis unter 25 Jahre (Anzahl Spalte 16 und 17)',\n",
      "       'Erwachsene 25 bis unter 30 Jahre', 'Erwachsene 30 bis unter 40 Jahre',\n",
      "       'Erwachsene 40 bis unter 50 Jahre', 'Erwachsene 50 bis unter 60 Jahre',\n",
      "       'Erwachsene 60 Jahre und aelter',\n",
      "       'Erwachsene ab 21 Jahre (Anzahl Spalten 18 bis 23)'],\n",
      "      dtype='object')\n"
     ]
    }
   ],
   "source": [
    "print(data_2014.columns)\n",
    "renameDict = {'Schluesselzahl der Tat':'Schluessel','Gemeindeschlüssel':'Gemeindeschluessel','Tatverdaechtige insgesamt - Anzahl':'gesamt','Kinder bis unter 6 Jahre - Anzahl':'Alter_unter_6','Kinder 6 bis unter 8 Jahre Anzahl':'Alter_6_bis_8','Kinder 8 bis unter 10 Jahre - Anzahl':'Alter_8_bis_10','Kinder 10 bis unter 12 Jahre - Anzahl':'Alter_10_bis_12',\n",
    "       'Kinder 12 bis unter 14 Jahre - Anzahl':'Alter_12_bis_14',\n",
    "       'Kinder bis unter 14 Jahre insgesamt (Anzahl Spalte 5 bis 9)':'Kinder_gesamt',\n",
    "        'Kinder bis unter 14 Jahre insgesamt (Anzahl Spalte 7 bis 11)':'Kinder_gesamt',\n",
    "       'Jugendliche 14 bis unter 16 Jahre - Anzahl':'Alter_14_bis_16',\n",
    "       'Jugendliche 16 bis unter 18 Jahre - Anzahl':'Alter_16_bis_18',\n",
    "       'Jugendliche 14 bis unter 18 Jahre insgesamt (Anzahl Spalte 11 und 12)':'Jugendliche_gesamt',\n",
    "              'Jugendliche 14 bis unter 18 Jahre insgesamt (Anzahl Spalte 13 und 14)':'Jugendliche_gesamt',\n",
    "       'Heranwachsende 18 bis unter 21 Jahre - Anzahl':'Alter_18_bis_21',\n",
    "       'Tatverdaechtige insgesamt unter 21 Jahre (Anzahl Spalte 10, 13 und 14)':'unter_21_gesamt',\n",
    "              'Tatverdaechtige insgesamt unter 21 Jahre (Anzahl Spalte 12, 15 und 16)':'unter_21_gesamt',\n",
    "       'Erwachsene 21 bis unter 23 Jahre - Anzahl':'Alter_21_bis_23',\n",
    "       'Erwachsene 23 bis unter 25 Jahre - Anzahl':'Alter_23_bis_25',\n",
    "       'Erwachsene 21 bis unter 25 Jahre (Anzahl Spalte 16 und 17)':'Alter_21_bis_25',\n",
    "              'Erwachsene 21 bis unter 25 Jahre (Anzahl Spalte 18 und 19)':'Alter_21_bis_25',\n",
    "       'Erwachsene 25 bis unter 30 Jahre':'Alter_25_bis_30', 'Erwachsene 30 bis unter 40 Jahre':'Alter_30_bis_40',\n",
    "       'Erwachsene 40 bis unter 50 Jahre':'Alter_40_bis_50', 'Erwachsene 50 bis unter 60 Jahre':'Alter_50_bis_60',\n",
    "       'Erwachsene 60 Jahre und aelter':'Alter_ueber_60',\n",
    "       'Erwachsene ab 21 Jahre (Anzahl Spalten 18 bis 23)':'Erwachsene_gesamt',\n",
    "              'Erwachsene ab 21 Jahre (Anzahl Spalten 20 bis 25)':'Erwachsene_gesamt'}\n",
    "data_2014 = data_2014.rename(columns=renameDict)\n",
    "data_2015 = data_2015.rename(columns=renameDict)\n",
    "data_2016 = data_2016.rename(columns=renameDict)\n",
    "data_2017 = data_2017.rename(columns=renameDict)\n",
    "data_2018 = data_2018.rename(columns=renameDict)\n",
    "data_2019 = data_2019.rename(columns=renameDict)\n",
    "data_2020 = data_2020.rename(columns=renameDict)\n",
    "data_2021 = data_2021.rename(columns=renameDict)\n",
    "data_2022 = data_2022.rename(columns=renameDict)\n",
    "data_2023 = data_2023.rename(columns=renameDict)\n"
   ]
  },
  {
   "cell_type": "code",
   "execution_count": 7,
   "metadata": {},
   "outputs": [
    {
     "name": "stdout",
     "output_type": "stream",
     "text": [
      "  Schluessel              Straftat  Gemeindeschluessel     Stadt Sexus  \\\n",
      "0     ------  Straftaten insgesamt             5334002    Aachen     M   \n",
      "1     ------  Straftaten insgesamt             5334002    Aachen     W   \n",
      "2     ------  Straftaten insgesamt             5334002    Aachen     X   \n",
      "3     ------  Straftaten insgesamt             9761000  Augsburg     M   \n",
      "4     ------  Straftaten insgesamt             9761000  Augsburg     W   \n",
      "\n",
      "   gesamt  Alter_unter_6  Alter_6_bis_8  Alter_8_bis_10 Alter_10_bis_12  ...  \\\n",
      "0  10,065             15             15              25              48  ...   \n",
      "1   2,749             16              5              10              28  ...   \n",
      "2  12,814             31             20              35              76  ...   \n",
      "3   8,910              0             14              39              93  ...   \n",
      "4   3,040              2              3               8              42  ...   \n",
      "\n",
      "  Alter_21_bis_23 Alter_23_bis_25 Alter_21_bis_25 Alter_25_bis_30  \\\n",
      "0             646             706           1,352           1,572   \n",
      "1             120             108             228             265   \n",
      "2             766             814           1,580           1,837   \n",
      "3             646             665           1,311           1,268   \n",
      "4             152             132             284             300   \n",
      "\n",
      "  Alter_30_bis_40 Alter_40_bis_50 Alter_50_bis_60 Alter_ueber_60  \\\n",
      "0           2,374           1,377             801            492   \n",
      "1             550             385             264            188   \n",
      "2           2,924           1,762           1,065            680   \n",
      "3           1,808           1,217             754            498   \n",
      "4             640             443             280            214   \n",
      "\n",
      "  Erwachsene_gesamt  Jahr  \n",
      "0             7,968  2023  \n",
      "1             1,880  2023  \n",
      "2             9,848  2023  \n",
      "3             6,856  2023  \n",
      "4             2,161  2023  \n",
      "\n",
      "[5 rows x 27 columns]\n"
     ]
    }
   ],
   "source": [
    "data_2014[\"Jahr\"]=2014\n",
    "data_2015[\"Jahr\"]=2015\n",
    "data_2016[\"Jahr\"]=2016\n",
    "data_2017[\"Jahr\"]=2017\n",
    "data_2018[\"Jahr\"]=2018\n",
    "data_2019[\"Jahr\"]=2019\n",
    "data_2020[\"Jahr\"]=2020\n",
    "data_2021[\"Jahr\"]=2021\n",
    "data_2022[\"Jahr\"]=2022\n",
    "data_2023[\"Jahr\"]=2023\n",
    "print(data_2023.head())"
   ]
  },
  {
   "cell_type": "code",
   "execution_count": 34,
   "metadata": {},
   "outputs": [],
   "source": [
    "data_2014.to_csv(\"Tatverdaechtige_2014_clean.csv\",index=False)\n",
    "data_2015.to_csv(\"Tatverdaechtige_2015_clean.csv\",index=False)\n",
    "data_2016.to_csv(\"Tatverdaechtige_2016_clean.csv\",index=False)\n",
    "data_2017.to_csv(\"Tatverdaechtige_2017_clean.csv\",index=False)\n",
    "data_2018.to_csv(\"Tatverdaechtige_2018_clean.csv\",index=False)\n",
    "data_2019.to_csv(\"Tatverdaechtige_2019_clean.csv\",index=False)\n",
    "data_2020.to_csv(\"Tatverdaechtige_2020_clean.csv\",index=False)\n",
    "data_2021.to_csv(\"Tatverdaechtige_2021_clean.csv\",index=False)\n",
    "data_2022.to_csv(\"Tatverdaechtige_2022_clean.csv\",index=False)\n",
    "data_2023.to_csv(\"Tatverdaechtige_2023_clean.csv\",index=False)"
   ]
  },
  {
   "cell_type": "code",
   "execution_count": 8,
   "metadata": {},
   "outputs": [
    {
     "name": "stdout",
     "output_type": "stream",
     "text": [
      "  Schluessel              Straftat  Gemeindeschluessel     Stadt Sexus  \\\n",
      "0     ------  Straftaten insgesamt             5334002    Aachen     M   \n",
      "1     ------  Straftaten insgesamt             5334002    Aachen     W   \n",
      "2     ------  Straftaten insgesamt             5334002    Aachen     X   \n",
      "3     ------  Straftaten insgesamt             9761000  Augsburg     M   \n",
      "4     ------  Straftaten insgesamt             9761000  Augsburg     W   \n",
      "\n",
      "   gesamt  Alter_unter_6  Alter_6_bis_8  Alter_8_bis_10  Alter_10_bis_12  ...  \\\n",
      "0    9368              4              2               7               44  ...   \n",
      "1    2540              0              0               3                9  ...   \n",
      "2   11908              4              2              10               53  ...   \n",
      "3    8427              0              8              30               50  ...   \n",
      "4    2784              1              3               4               15  ...   \n",
      "\n",
      "   Alter_21_bis_23  Alter_23_bis_25  Alter_21_bis_25  Alter_25_bis_30  \\\n",
      "0              684              726             1410             1541   \n",
      "1              174              164              338              341   \n",
      "2              858              890             1748             1882   \n",
      "3              640              609             1249             1257   \n",
      "4              163              180              343              341   \n",
      "\n",
      "   Alter_30_bis_40  Alter_40_bis_50  Alter_50_bis_60  Alter_ueber_60  \\\n",
      "0             1886             1156              651             367   \n",
      "1              429              406              222             158   \n",
      "2             2315             1562              873             525   \n",
      "3             1778             1245              725             419   \n",
      "4              514              389              293             216   \n",
      "\n",
      "   Erwachsene_gesamt  Jahr  \n",
      "0               7011  2014  \n",
      "1               1894  2014  \n",
      "2               8905  2014  \n",
      "3               6673  2014  \n",
      "4               2096  2014  \n",
      "\n",
      "[5 rows x 27 columns]\n"
     ]
    }
   ],
   "source": [
    "print(data_2014.head())"
   ]
  },
  {
   "cell_type": "code",
   "execution_count": 9,
   "metadata": {},
   "outputs": [
    {
     "name": "stdout",
     "output_type": "stream",
     "text": [
      "8892\n",
      "9240\n",
      "9840\n",
      "9963\n",
      "10206\n",
      "10332\n",
      "10332\n",
      "10209\n",
      "10332\n",
      "10209\n"
     ]
    }
   ],
   "source": [
    "print(len(data_2014)) # why is this one so long?\n",
    "print(len(data_2015))\n",
    "print(len(data_2016))\n",
    "print(len(data_2017))\n",
    "print(len(data_2018))\n",
    "print(len(data_2019))\n",
    "print(len(data_2020))\n",
    "print(len(data_2021))\n",
    "print(len(data_2022))\n",
    "print(len(data_2023))"
   ]
  },
  {
   "cell_type": "code",
   "execution_count": 10,
   "metadata": {},
   "outputs": [],
   "source": [
    "combined_df = pd.concat([data_2014, data_2015, data_2016,data_2017,data_2018,data_2019,data_2020,data_2021,data_2022,data_2023], ignore_index=True)"
   ]
  },
  {
   "cell_type": "code",
   "execution_count": 15,
   "metadata": {},
   "outputs": [
    {
     "name": "stdout",
     "output_type": "stream",
     "text": [
      "<class 'pandas.core.frame.DataFrame'>\n",
      "RangeIndex: 99555 entries, 0 to 99554\n",
      "Data columns (total 27 columns):\n",
      " #   Column              Non-Null Count  Dtype  \n",
      "---  ------              --------------  -----  \n",
      " 0   Schluessel          70431 non-null  float64\n",
      " 1   Straftat            99555 non-null  object \n",
      " 2   Gemeindeschluessel  99555 non-null  int64  \n",
      " 3   Stadt               99555 non-null  object \n",
      " 4   Sexus               99555 non-null  object \n",
      " 5   gesamt              88721 non-null  float64\n",
      " 6   Alter_unter_6       99555 non-null  int64  \n",
      " 7   Alter_6_bis_8       99555 non-null  int64  \n",
      " 8   Alter_8_bis_10      99555 non-null  int64  \n",
      " 9   Alter_10_bis_12     99542 non-null  float64\n",
      " 10  Alter_12_bis_14     99493 non-null  float64\n",
      " 11  Kinder_gesamt       99404 non-null  float64\n",
      " 12  Alter_14_bis_16     99374 non-null  float64\n",
      " 13  Alter_16_bis_18     99243 non-null  float64\n",
      " 14  Jugendliche_gesamt  98736 non-null  float64\n",
      " 15  Alter_18_bis_21     98687 non-null  float64\n",
      " 16  unter_21_gesamt     96582 non-null  float64\n",
      " 17  Alter_21_bis_23     99059 non-null  float64\n",
      " 18  Alter_23_bis_25     99092 non-null  float64\n",
      " 19  Alter_21_bis_25     98203 non-null  float64\n",
      " 20  Alter_25_bis_30     97924 non-null  float64\n",
      " 21  Alter_30_bis_40     96688 non-null  float64\n",
      " 22  Alter_40_bis_50     97985 non-null  float64\n",
      " 23  Alter_50_bis_60     98809 non-null  float64\n",
      " 24  Alter_ueber_60      99098 non-null  float64\n",
      " 25  Erwachsene_gesamt   91126 non-null  float64\n",
      " 26  Jahr                99555 non-null  int64  \n",
      "dtypes: float64(19), int64(5), object(3)\n",
      "memory usage: 20.5+ MB\n",
      "None\n"
     ]
    }
   ],
   "source": [
    "#combined_df.replace(\"------\", 0, inplace=True)\n",
    "numeric_columns = [\"Schluessel\",\"Gemeindeschluessel\",\"gesamt\",\"Alter_unter_6\",\"Alter_6_bis_8\",\"Alter_8_bis_10\",\"Alter_10_bis_12\",'Alter_12_bis_14', 'Kinder_gesamt',\n",
    "       'Alter_14_bis_16', 'Alter_16_bis_18', 'Jugendliche_gesamt',\n",
    "       'Alter_18_bis_21', 'unter_21_gesamt', 'Alter_21_bis_23',\n",
    "       'Alter_23_bis_25', 'Alter_21_bis_25', 'Alter_25_bis_30',\n",
    "       'Alter_30_bis_40', 'Alter_40_bis_50', 'Alter_50_bis_60',\n",
    "       'Alter_ueber_60', 'Erwachsene_gesamt']\n",
    "for column in numeric_columns:\n",
    "    combined_df[column] = pd.to_numeric(combined_df[column].astype(str).str.replace(\",\", \"\"), errors=\"coerce\")\n",
    "print(combined_df.info())"
   ]
  },
  {
   "cell_type": "code",
   "execution_count": 16,
   "metadata": {},
   "outputs": [
    {
     "name": "stdout",
     "output_type": "stream",
     "text": [
      "   Schluessel              Straftat  Gemeindeschluessel     Stadt Sexus  \\\n",
      "0         NaN  Straftaten insgesamt             5334002    Aachen     M   \n",
      "1         NaN  Straftaten insgesamt             5334002    Aachen     W   \n",
      "2         NaN  Straftaten insgesamt             5334002    Aachen     X   \n",
      "3         NaN  Straftaten insgesamt             9761000  Augsburg     M   \n",
      "4         NaN  Straftaten insgesamt             9761000  Augsburg     W   \n",
      "\n",
      "    gesamt  Alter_unter_6  Alter_6_bis_8  Alter_8_bis_10  Alter_10_bis_12  \\\n",
      "0   9368.0              4              2               7             44.0   \n",
      "1   2540.0              0              0               3              9.0   \n",
      "2  11908.0              4              2              10             53.0   \n",
      "3   8427.0              0              8              30             50.0   \n",
      "4   2784.0              1              3               4             15.0   \n",
      "\n",
      "   ...  Alter_21_bis_23  Alter_23_bis_25  Alter_21_bis_25  Alter_25_bis_30  \\\n",
      "0  ...            684.0            726.0           1410.0           1541.0   \n",
      "1  ...            174.0            164.0            338.0            341.0   \n",
      "2  ...            858.0            890.0           1748.0           1882.0   \n",
      "3  ...            640.0            609.0           1249.0           1257.0   \n",
      "4  ...            163.0            180.0            343.0            341.0   \n",
      "\n",
      "   Alter_30_bis_40  Alter_40_bis_50  Alter_50_bis_60  Alter_ueber_60  \\\n",
      "0           1886.0           1156.0            651.0           367.0   \n",
      "1            429.0            406.0            222.0           158.0   \n",
      "2           2315.0           1562.0            873.0           525.0   \n",
      "3           1778.0           1245.0            725.0           419.0   \n",
      "4            514.0            389.0            293.0           216.0   \n",
      "\n",
      "   Erwachsene_gesamt  Jahr  \n",
      "0             7011.0  2014  \n",
      "1             1894.0  2014  \n",
      "2             8905.0  2014  \n",
      "3             6673.0  2014  \n",
      "4             2096.0  2014  \n",
      "\n",
      "[5 rows x 27 columns]\n"
     ]
    }
   ],
   "source": [
    "print(combined_df.head())"
   ]
  },
  {
   "cell_type": "code",
   "execution_count": 17,
   "metadata": {},
   "outputs": [],
   "source": [
    "combined_df.to_csv(\"Tatverdaechtige_combined_clean.csv\",index=False)"
   ]
  },
  {
   "cell_type": "code",
   "execution_count": null,
   "metadata": {},
   "outputs": [],
   "source": []
  }
 ],
 "metadata": {
  "kernelspec": {
   "display_name": "Python 3 (ipykernel)",
   "language": "python",
   "name": "python3"
  },
  "language_info": {
   "codemirror_mode": {
    "name": "ipython",
    "version": 3
   },
   "file_extension": ".py",
   "mimetype": "text/x-python",
   "name": "python",
   "nbconvert_exporter": "python",
   "pygments_lexer": "ipython3",
   "version": "3.13.0"
  }
 },
 "nbformat": 4,
 "nbformat_minor": 4
}
