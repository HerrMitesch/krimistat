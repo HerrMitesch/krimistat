{
 "cells": [
  {
   "cell_type": "code",
   "execution_count": 1,
   "metadata": {},
   "outputs": [],
   "source": [
    "import pandas as pd"
   ]
  },
  {
   "cell_type": "code",
   "execution_count": 2,
   "metadata": {},
   "outputs": [],
   "source": [
    "data_2016=pd.read_csv(\"Tatverdaechtige_Tabelle/Tatverdaechtige_2016.csv\",encoding='ISO-8859-1', sep=';')\n",
    "data_2017=pd.read_csv(\"Tatverdaechtige_Tabelle/Tatverdaechtige_2017.csv\",encoding='ISO-8859-1', sep=';')\n",
    "data_2018=pd.read_csv(\"Tatverdaechtige_Tabelle/Tatverdaechtige_2018.csv\",encoding='ISO-8859-1', sep=';')\n",
    "data_2019=pd.read_csv(\"Tatverdaechtige_Tabelle/Tatverdaechtige_2019.csv\",encoding='ISO-8859-1', sep=';')\n",
    "data_2020=pd.read_csv(\"Tatverdaechtige_Tabelle/Tatverdaechtige_2020.csv\",encoding='ISO-8859-1', sep=';')\n",
    "data_2021=pd.read_csv(\"Tatverdaechtige_Tabelle/Tatverdaechtige_2021.csv\",encoding='ISO-8859-1', sep=';')\n",
    "data_2022=pd.read_csv(\"Tatverdaechtige_Tabelle/Tatverdaechtige_2022.csv\",encoding='ISO-8859-1', sep=';')\n",
    "data_2023=pd.read_csv(\"Tatverdaechtige_Tabelle/Tatverdaechtige_2023.csv\",encoding='ISO-8859-1', sep=';')"
   ]
  },
  {
   "cell_type": "code",
   "execution_count": 3,
   "metadata": {},
   "outputs": [
    {
     "name": "stdout",
     "output_type": "stream",
     "text": [
      "26\n",
      "26\n",
      "26\n",
      "26\n",
      "26\n",
      "26\n",
      "26\n",
      "26\n"
     ]
    }
   ],
   "source": [
    "print(len(data_2016.columns))\n",
    "print(len(data_2017.columns))\n",
    "print(len(data_2018.columns))\n",
    "print(len(data_2019.columns))\n",
    "print(len(data_2020.columns))\n",
    "print(len(data_2021.columns))\n",
    "print(len(data_2022.columns))\n",
    "print(len(data_2023.columns))"
   ]
  },
  {
   "cell_type": "code",
   "execution_count": 4,
   "metadata": {},
   "outputs": [],
   "source": [
    "renameDict = {'Schluesselzahl der Tat':'Schluessel','Gemeindeschlüssel':'Gemeindeschluessel','Tatverdaechtige insgesamt - Anzahl':'gesamt','Kinder bis unter 6 Jahre - Anzahl':'Alter_unter_6','Kinder 6 bis unter 8 Jahre Anzahl':'Alter_6_bis_8','Kinder 8 bis unter 10 Jahre - Anzahl':'Alter_8_bis_10','Kinder 10 bis unter 12 Jahre - Anzahl':'Alter_10_bis_12',\n",
    "       'Kinder 12 bis unter 14 Jahre - Anzahl':'Alter_12_bis_14',\n",
    "       'Kinder bis unter 14 Jahre insgesamt (Anzahl Spalte 5 bis 9)':'Kinder_gesamt',\n",
    "        'Kinder bis unter 14 Jahre insgesamt (Anzahl Spalte 7 bis 11)':'Kinder_gesamt',\n",
    "       'Jugendliche 14 bis unter 16 Jahre - Anzahl':'Alter_14_bis_16',\n",
    "       'Jugendliche 16 bis unter 18 Jahre - Anzahl':'Alter_16_bis_18',\n",
    "       'Jugendliche 14 bis unter 18 Jahre insgesamt (Anzahl Spalte 11 und 12)':'Jugendliche_gesamt',\n",
    "              'Jugendliche 14 bis unter 18 Jahre insgesamt (Anzahl Spalte 13 und 14)':'Jugendliche_gesamt',\n",
    "       'Heranwachsende 18 bis unter 21 Jahre - Anzahl':'Alter_18_bis_21',\n",
    "       'Tatverdaechtige insgesamt unter 21 Jahre (Anzahl Spalte 10, 13 und 14)':'unter_21_gesamt',\n",
    "              'Tatverdaechtige insgesamt unter 21 Jahre (Anzahl Spalte 12, 15 und 16)':'unter_21_gesamt',\n",
    "       'Erwachsene 21 bis unter 23 Jahre - Anzahl':'Alter_21_bis_23',\n",
    "       'Erwachsene 23 bis unter 25 Jahre - Anzahl':'Alter_23_bis_25',\n",
    "       'Erwachsene 21 bis unter 25 Jahre (Anzahl Spalte 16 und 17)':'Alter_21_bis_25',\n",
    "              'Erwachsene 21 bis unter 25 Jahre (Anzahl Spalte 18 und 19)':'Alter_21_bis_25',\n",
    "       'Erwachsene 25 bis unter 30 Jahre':'Alter_25_bis_30', 'Erwachsene 30 bis unter 40 Jahre':'Alter_30_bis_40',\n",
    "       'Erwachsene 40 bis unter 50 Jahre':'Alter_40_bis_50', 'Erwachsene 50 bis unter 60 Jahre':'Alter_50_bis_60',\n",
    "       'Erwachsene 60 Jahre und aelter':'Alter_ueber_60',\n",
    "       'Erwachsene ab 21 Jahre (Anzahl Spalten 18 bis 23)':'Erwachsene_gesamt',\n",
    "              'Erwachsene ab 21 Jahre (Anzahl Spalten 20 bis 25)':'Erwachsene_gesamt'}\n",
    "data_2016 = data_2016.rename(columns=renameDict)\n",
    "data_2017 = data_2017.rename(columns=renameDict)\n",
    "data_2018 = data_2018.rename(columns=renameDict)\n",
    "data_2019 = data_2019.rename(columns=renameDict)\n",
    "data_2020 = data_2020.rename(columns=renameDict)\n",
    "data_2021 = data_2021.rename(columns=renameDict)\n",
    "data_2022 = data_2022.rename(columns=renameDict)\n",
    "data_2023 = data_2023.rename(columns=renameDict)\n"
   ]
  },
  {
   "cell_type": "code",
   "execution_count": 5,
   "metadata": {},
   "outputs": [
    {
     "name": "stdout",
     "output_type": "stream",
     "text": [
      "  Schluessel              Straftat  Gemeindeschluessel     Stadt Sexus  \\\n",
      "0     ------  Straftaten insgesamt             5334002    Aachen     M   \n",
      "1     ------  Straftaten insgesamt             5334002    Aachen     W   \n",
      "2     ------  Straftaten insgesamt             5334002    Aachen     X   \n",
      "3     ------  Straftaten insgesamt             9761000  Augsburg     M   \n",
      "4     ------  Straftaten insgesamt             9761000  Augsburg     W   \n",
      "\n",
      "   gesamt  Alter_unter_6  Alter_6_bis_8  Alter_8_bis_10 Alter_10_bis_12  ...  \\\n",
      "0  10,065             15             15              25              48  ...   \n",
      "1   2,749             16              5              10              28  ...   \n",
      "2  12,814             31             20              35              76  ...   \n",
      "3   8,910              0             14              39              93  ...   \n",
      "4   3,040              2              3               8              42  ...   \n",
      "\n",
      "  Alter_21_bis_23 Alter_23_bis_25 Alter_21_bis_25 Alter_25_bis_30  \\\n",
      "0             646             706           1,352           1,572   \n",
      "1             120             108             228             265   \n",
      "2             766             814           1,580           1,837   \n",
      "3             646             665           1,311           1,268   \n",
      "4             152             132             284             300   \n",
      "\n",
      "  Alter_30_bis_40 Alter_40_bis_50 Alter_50_bis_60 Alter_ueber_60  \\\n",
      "0           2,374           1,377             801            492   \n",
      "1             550             385             264            188   \n",
      "2           2,924           1,762           1,065            680   \n",
      "3           1,808           1,217             754            498   \n",
      "4             640             443             280            214   \n",
      "\n",
      "  Erwachsene_gesamt  Jahr  \n",
      "0             7,968  2023  \n",
      "1             1,880  2023  \n",
      "2             9,848  2023  \n",
      "3             6,856  2023  \n",
      "4             2,161  2023  \n",
      "\n",
      "[5 rows x 27 columns]\n"
     ]
    }
   ],
   "source": [
    "data_2016[\"Jahr\"]=2016\n",
    "data_2017[\"Jahr\"]=2017\n",
    "data_2018[\"Jahr\"]=2018\n",
    "data_2019[\"Jahr\"]=2019\n",
    "data_2020[\"Jahr\"]=2020\n",
    "data_2021[\"Jahr\"]=2021\n",
    "data_2022[\"Jahr\"]=2022\n",
    "data_2023[\"Jahr\"]=2023\n",
    "print(data_2023.head())"
   ]
  },
  {
   "cell_type": "code",
   "execution_count": 6,
   "metadata": {},
   "outputs": [],
   "source": [
    "data_2016.to_csv(\"Tatverdaechtige_2016_clean.csv\",index=False)\n",
    "data_2017.to_csv(\"Tatverdaechtige_2017_clean.csv\",index=False)\n",
    "data_2018.to_csv(\"Tatverdaechtige_2018_clean.csv\",index=False)\n",
    "data_2019.to_csv(\"Tatverdaechtige_2019_clean.csv\",index=False)\n",
    "data_2020.to_csv(\"Tatverdaechtige_2020_clean.csv\",index=False)\n",
    "data_2021.to_csv(\"Tatverdaechtige_2021_clean.csv\",index=False)\n",
    "data_2022.to_csv(\"Tatverdaechtige_2022_clean.csv\",index=False)\n",
    "data_2023.to_csv(\"Tatverdaechtige_2023_clean.csv\",index=False)"
   ]
  },
  {
   "cell_type": "code",
   "execution_count": 7,
   "metadata": {},
   "outputs": [
    {
     "name": "stdout",
     "output_type": "stream",
     "text": [
      "9840\n",
      "9963\n",
      "10206\n",
      "10332\n",
      "10332\n",
      "10209\n",
      "10332\n",
      "10209\n"
     ]
    }
   ],
   "source": [
    "print(len(data_2016))\n",
    "print(len(data_2017))\n",
    "print(len(data_2018))\n",
    "print(len(data_2019))\n",
    "print(len(data_2020))\n",
    "print(len(data_2021))\n",
    "print(len(data_2022))\n",
    "print(len(data_2023))"
   ]
  },
  {
   "cell_type": "code",
   "execution_count": 8,
   "metadata": {},
   "outputs": [],
   "source": [
    "combined_df = pd.concat([data_2016,data_2017,data_2018,data_2019,data_2020,data_2021,data_2022,data_2023], ignore_index=True)"
   ]
  },
  {
   "cell_type": "code",
   "execution_count": 9,
   "metadata": {},
   "outputs": [
    {
     "name": "stdout",
     "output_type": "stream",
     "text": [
      "<class 'pandas.core.frame.DataFrame'>\n",
      "RangeIndex: 81423 entries, 0 to 81422\n",
      "Data columns (total 27 columns):\n",
      " #   Column              Non-Null Count  Dtype  \n",
      "---  ------              --------------  -----  \n",
      " 0   Schluessel          57807 non-null  float64\n",
      " 1   Straftat            81423 non-null  object \n",
      " 2   Gemeindeschluessel  81423 non-null  int64  \n",
      " 3   Stadt               81423 non-null  object \n",
      " 4   Sexus               81423 non-null  object \n",
      " 5   gesamt              81423 non-null  int64  \n",
      " 6   Alter_unter_6       81423 non-null  int64  \n",
      " 7   Alter_6_bis_8       81423 non-null  int64  \n",
      " 8   Alter_8_bis_10      81423 non-null  int64  \n",
      " 9   Alter_10_bis_12     81423 non-null  int64  \n",
      " 10  Alter_12_bis_14     81423 non-null  int64  \n",
      " 11  Kinder_gesamt       81423 non-null  int64  \n",
      " 12  Alter_14_bis_16     81423 non-null  int64  \n",
      " 13  Alter_16_bis_18     81423 non-null  int64  \n",
      " 14  Jugendliche_gesamt  81423 non-null  int64  \n",
      " 15  Alter_18_bis_21     81423 non-null  int64  \n",
      " 16  unter_21_gesamt     81423 non-null  int64  \n",
      " 17  Alter_21_bis_23     81423 non-null  int64  \n",
      " 18  Alter_23_bis_25     81423 non-null  int64  \n",
      " 19  Alter_21_bis_25     81423 non-null  int64  \n",
      " 20  Alter_25_bis_30     81423 non-null  int64  \n",
      " 21  Alter_30_bis_40     81423 non-null  int64  \n",
      " 22  Alter_40_bis_50     81423 non-null  int64  \n",
      " 23  Alter_50_bis_60     81423 non-null  int64  \n",
      " 24  Alter_ueber_60      81423 non-null  int64  \n",
      " 25  Erwachsene_gesamt   81423 non-null  int64  \n",
      " 26  Jahr                81423 non-null  int64  \n",
      "dtypes: float64(1), int64(23), object(3)\n",
      "memory usage: 16.8+ MB\n",
      "None\n"
     ]
    }
   ],
   "source": [
    "numeric_columns = [\"Schluessel\",\"Gemeindeschluessel\",\"gesamt\",\"Alter_unter_6\",\"Alter_6_bis_8\",\"Alter_8_bis_10\",\"Alter_10_bis_12\",'Alter_12_bis_14', 'Kinder_gesamt',\n",
    "       'Alter_14_bis_16', 'Alter_16_bis_18', 'Jugendliche_gesamt',\n",
    "       'Alter_18_bis_21', 'unter_21_gesamt', 'Alter_21_bis_23',\n",
    "       'Alter_23_bis_25', 'Alter_21_bis_25', 'Alter_25_bis_30',\n",
    "       'Alter_30_bis_40', 'Alter_40_bis_50', 'Alter_50_bis_60',\n",
    "       'Alter_ueber_60', 'Erwachsene_gesamt']\n",
    "for column in numeric_columns:\n",
    "    combined_df[column] = pd.to_numeric(combined_df[column].astype(str).str.replace(\",\", \"\"), errors=\"coerce\")\n",
    "print(combined_df.info())"
   ]
  },
  {
   "cell_type": "code",
   "execution_count": 11,
   "metadata": {},
   "outputs": [
    {
     "name": "stdout",
     "output_type": "stream",
     "text": [
      "   Schluessel              Straftat  Gemeindeschluessel              Stadt  \\\n",
      "0         NaN  Straftaten insgesamt             5334002             Aachen   \n",
      "1         NaN  Straftaten insgesamt             9761000           Augsburg   \n",
      "2         NaN  Straftaten insgesamt             5378004  Bergisch Gladbach   \n",
      "3         NaN  Straftaten insgesamt            11000000             Berlin   \n",
      "4         NaN  Straftaten insgesamt             5711000          Bielefeld   \n",
      "\n",
      "  Sexus  gesamt  Alter_unter_6  Alter_6_bis_8  Alter_8_bis_10  \\\n",
      "0     M    8965             12              4              16   \n",
      "1     M    8361              1              8              22   \n",
      "2     M    2053              0              0               5   \n",
      "3     M  109319            201            207             428   \n",
      "4     M    9176              3              2              22   \n",
      "\n",
      "   Alter_10_bis_12  ...  Alter_21_bis_23  Alter_23_bis_25  Alter_21_bis_25  \\\n",
      "0               30  ...              684              636             1320   \n",
      "1               40  ...              647              603             1250   \n",
      "2                7  ...              129              106              235   \n",
      "3              761  ...             6360             6382            12742   \n",
      "4               42  ...              686              662             1348   \n",
      "\n",
      "   Alter_25_bis_30  Alter_30_bis_40  Alter_40_bis_50  Alter_50_bis_60  \\\n",
      "0             1432             1778             1155              723   \n",
      "1             1219             1737             1174              705   \n",
      "2              269              392              359              188   \n",
      "3            17013            25936            17197            10859   \n",
      "4             1490             1965             1267              713   \n",
      "\n",
      "   Alter_ueber_60  Erwachsene_gesamt  Jahr  \n",
      "0             404               6812  2016  \n",
      "1             447               6532  2016  \n",
      "2             149               1592  2016  \n",
      "3            6212              89959  2016  \n",
      "4             403               7186  2016  \n",
      "\n",
      "[5 rows x 27 columns]\n"
     ]
    }
   ],
   "source": [
    "print(combined_df.head())"
   ]
  },
  {
   "cell_type": "code",
   "execution_count": 10,
   "metadata": {},
   "outputs": [],
   "source": [
    "combined_df.to_csv(\"Tatverdaechtige_combined_clean.csv\",index=False)"
   ]
  },
  {
   "cell_type": "code",
   "execution_count": null,
   "metadata": {},
   "outputs": [],
   "source": []
  }
 ],
 "metadata": {
  "kernelspec": {
   "display_name": "Python 3",
   "language": "python",
   "name": "python3"
  },
  "language_info": {
   "codemirror_mode": {
    "name": "ipython",
    "version": 3
   },
   "file_extension": ".py",
   "mimetype": "text/x-python",
   "name": "python",
   "nbconvert_exporter": "python",
   "pygments_lexer": "ipython3",
   "version": "3.12.3"
  }
 },
 "nbformat": 4,
 "nbformat_minor": 4
}
