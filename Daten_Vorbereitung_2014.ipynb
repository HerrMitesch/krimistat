{
 "cells": [
  {
   "cell_type": "code",
   "execution_count": 1,
   "metadata": {},
   "outputs": [],
   "source": [
    "import pandas as pd #Import library"
   ]
  },
  {
   "cell_type": "code",
   "execution_count": 4,
   "metadata": {},
   "outputs": [],
   "source": [
    "Opfer_2014=pd.read_csv(\"Opfer_Tabelle/OpferInsgesamt_2014.csv\",encoding='ISO-8859-1', sep=';')"
   ]
  },
  {
   "cell_type": "code",
   "execution_count": 5,
   "metadata": {},
   "outputs": [
    {
     "name": "stdout",
     "output_type": "stream",
     "text": [
      "                        1                     2         Unnamed: 2 Unnamed: 3  \\\n",
      "0  Schluesselzahl der Tat              Straftat  Gemeindeschlüssel      Stadt   \n",
      "1                  ------  Straftaten insgesamt            5334002     Aachen   \n",
      "2                  ------  Straftaten insgesamt            5334002     Aachen   \n",
      "3                  ------  Straftaten insgesamt            5334002     Aachen   \n",
      "4                  ------  Straftaten insgesamt            9761000   Augsburg   \n",
      "\n",
      "            3                         4                                4a  \\\n",
      "0  Fallstatus  Opfer insgesamt - Anzahl  Opfer insgesamt männlich- Anzahl   \n",
      "1       voll.                      4033                              2377   \n",
      "2       vers.                       327                               206   \n",
      "3       insg.                      4360                              2583   \n",
      "4       voll.                      4599                              2940   \n",
      "\n",
      "                                 4b                                  5  \\\n",
      "0  Opfer insgesamt weiblich- Anzahl  Kinder bis unter 6 Jahre - Anzahl   \n",
      "1                              1656                                 15   \n",
      "2                               121                                  3   \n",
      "3                              1777                                 18   \n",
      "4                              1659                                 30   \n",
      "\n",
      "                                          5a  ...  \\\n",
      "0  Kinder bis unter 6 Jahre männlich- Anzahl  ...   \n",
      "1                                          6  ...   \n",
      "2                                          0  ...   \n",
      "3                                          6  ...   \n",
      "4                                         21  ...   \n",
      "\n",
      "                                           21b  \\\n",
      "0  Erwachsene 40 bis unter 50 Jahre - weiblich   \n",
      "1                                          236   \n",
      "2                                           16   \n",
      "3                                          252   \n",
      "4                                          244   \n",
      "\n",
      "                                 22  \\\n",
      "0  Erwachsene 50 bis unter 60 Jahre   \n",
      "1                               389   \n",
      "2                                32   \n",
      "3                               421   \n",
      "4                               356   \n",
      "\n",
      "                                           22a  \\\n",
      "0  Erwachsene 50 bis unter 60 Jahre - männlich   \n",
      "1                                          234   \n",
      "2                                           21   \n",
      "3                                          255   \n",
      "4                                          249   \n",
      "\n",
      "                                           22b  \\\n",
      "0  Erwachsene 50 bis unter 60 Jahre - weiblich   \n",
      "1                                          155   \n",
      "2                                           11   \n",
      "3                                          166   \n",
      "4                                          107   \n",
      "\n",
      "                               23                                        23a  \\\n",
      "0  Erwachsene 60 Jahre und aelter  Erwachsene 60 Jahre und aelter - männlich   \n",
      "1                             236                                        132   \n",
      "2                              26                                         10   \n",
      "3                             262                                        142   \n",
      "4                             198                                         94   \n",
      "\n",
      "                                         23b                      24  \\\n",
      "0  Erwachsene 60 Jahre und aelter - weiblich  Erwachsene ab 21 Jahre   \n",
      "1                                        104                    3191   \n",
      "2                                         16                     256   \n",
      "3                                        120                    3447   \n",
      "4                                        104                    3513   \n",
      "\n",
      "                                 24a                                24b  \n",
      "0  Erwachsene ab 21 Jahre - männlich  Erwachsene ab 21 Jahre - weiblich  \n",
      "1                               1888                               1303  \n",
      "2                                163                                 93  \n",
      "3                               2051                               1396  \n",
      "4                               2275                               1238  \n",
      "\n",
      "[5 rows x 68 columns]\n"
     ]
    }
   ],
   "source": [
    "print(Opfer_2014.head(5)) #top 5 rows "
   ]
  },
  {
   "cell_type": "code",
   "execution_count": 6,
   "metadata": {},
   "outputs": [
    {
     "name": "stdout",
     "output_type": "stream",
     "text": [
      "(3421, 68)\n"
     ]
    }
   ],
   "source": [
    "print(Opfer_2014.shape) #print shape"
   ]
  },
  {
   "cell_type": "code",
   "execution_count": 7,
   "metadata": {},
   "outputs": [
    {
     "name": "stdout",
     "output_type": "stream",
     "text": [
      "1             0\n",
      "2             0\n",
      "Unnamed: 2    0\n",
      "Unnamed: 3    0\n",
      "3             0\n",
      "             ..\n",
      "23a           0\n",
      "23b           0\n",
      "24            0\n",
      "24a           0\n",
      "24b           0\n",
      "Length: 68, dtype: int64\n"
     ]
    }
   ],
   "source": [
    "print(Opfer_2014.isnull().sum())"
   ]
  },
  {
   "cell_type": "code",
   "execution_count": 8,
   "metadata": {},
   "outputs": [
    {
     "name": "stdout",
     "output_type": "stream",
     "text": [
      "1             object\n",
      "2             object\n",
      "Unnamed: 2    object\n",
      "Unnamed: 3    object\n",
      "3             object\n",
      "               ...  \n",
      "23a           object\n",
      "23b           object\n",
      "24            object\n",
      "24a           object\n",
      "24b           object\n",
      "Length: 68, dtype: object\n"
     ]
    }
   ],
   "source": [
    "print(Opfer_2014.dtypes) #print the data type of each column"
   ]
  },
  {
   "cell_type": "code",
   "execution_count": 9,
   "metadata": {},
   "outputs": [
    {
     "name": "stdout",
     "output_type": "stream",
     "text": [
      "             1                     2 Unnamed: 2 Unnamed: 3      3     4    4a  \\\n",
      "count     3421                  3421       3421       3421   3421  3421  3421   \n",
      "unique      16                    16         77         77      4  1067   880   \n",
      "top     ------  Straftaten insgesamt    1002000       Kiel  voll.     0     0   \n",
      "freq       228                   228         45         45   1140   247   571   \n",
      "\n",
      "          4b     5    5a  ...   21b    22   22a   22b    23   23a   23b    24  \\\n",
      "count   3421  3421  3421  ...  3421  3421  3421  3421  3421  3421  3421  3421   \n",
      "unique   708    88    60  ...   276   355   274   203   260   196   170   956   \n",
      "top        0     0     0  ...     0     0     0     0     0     0     0     0   \n",
      "freq     362  2238  2434  ...  1014   812  1199  1153   932  1305  1214   267   \n",
      "\n",
      "         24a   24b  \n",
      "count   3421  3421  \n",
      "unique   805   653  \n",
      "top        0     0  \n",
      "freq     612   384  \n",
      "\n",
      "[4 rows x 68 columns]\n"
     ]
    }
   ],
   "source": [
    "print(Opfer_2014.describe())"
   ]
  },
  {
   "cell_type": "code",
   "execution_count": 10,
   "metadata": {},
   "outputs": [],
   "source": [
    "import seaborn as sns\n",
    "import matplotlib.pyplot as plt\n",
    "\n",
    "# Assuming Opfer_2014 is your dataframe\n",
    "# Create a heatmap of the correlation matrix\n",
    "#plt.figure(figsize=(10, 8))\n",
    "#sns.heatmap(Opfer_2014.corr(), annot=True, cmap=\"coolwarm\", fmt=\".2f\", linewidths=0.5)\n",
    "\n",
    "# Display the heatmap\n",
    "#plt.show()"
   ]
  },
  {
   "cell_type": "code",
   "execution_count": null,
   "metadata": {},
   "outputs": [],
   "source": []
  }
 ],
 "metadata": {
  "kernelspec": {
   "display_name": "Python 3 (ipykernel)",
   "language": "python",
   "name": "python3"
  },
  "language_info": {
   "codemirror_mode": {
    "name": "ipython",
    "version": 3
   },
   "file_extension": ".py",
   "mimetype": "text/x-python",
   "name": "python",
   "nbconvert_exporter": "python",
   "pygments_lexer": "ipython3",
   "version": "3.12.7"
  }
 },
 "nbformat": 4,
 "nbformat_minor": 4
}
