{
 "cells": [
  {
   "cell_type": "code",
   "execution_count": 2,
   "metadata": {},
   "outputs": [],
   "source": [
    "import pandas as pd"
   ]
  },
  {
   "cell_type": "code",
   "execution_count": 89,
   "metadata": {},
   "outputs": [
    {
     "name": "stderr",
     "output_type": "stream",
     "text": [
      "/var/folders/6q/qqqg6h2161xb60cykk_7rwz00000gp/T/ipykernel_87965/3957605111.py:1: DtypeWarning: Columns (0,11) have mixed types. Specify dtype option on import or set low_memory=False.\n",
      "  data_2014=pd.read_csv(\"Faelle_Tabelle/Falle_2014.csv\",encoding='ISO-8859-1', sep=';')\n"
     ]
    }
   ],
   "source": [
    "data_2014=pd.read_csv(\"Faelle_Tabelle/Falle_2014.csv\",encoding='ISO-8859-1', sep=';')\n",
    "data_2015=pd.read_csv(\"Faelle_Tabelle/Falle_2015.csv\",encoding='ISO-8859-1', sep=';')\n",
    "data_2016=pd.read_csv(\"Faelle_Tabelle/Falle_2016.csv\",encoding='ISO-8859-1', sep=';')\n",
    "data_2017=pd.read_csv(\"Faelle_Tabelle/Falle_2017.csv\",encoding='ISO-8859-1', sep=';')\n",
    "data_2018=pd.read_csv(\"Faelle_Tabelle/Falle_2018.csv\",encoding='ISO-8859-1', sep=';')\n",
    "data_2019=pd.read_csv(\"Faelle_Tabelle/Falle_2019.csv\",encoding='ISO-8859-1', sep=';')\n",
    "data_2020=pd.read_csv(\"Faelle_Tabelle/Falle_2020.csv\",encoding='ISO-8859-1', sep=';')\n",
    "data_2021=pd.read_csv(\"Faelle_Tabelle/Falle_2021.csv\",encoding='ISO-8859-1', sep=';')\n",
    "data_2022=pd.read_csv(\"Faelle_Tabelle/Falle_2022.csv\",encoding='ISO-8859-1', sep=';')\n",
    "data_2023=pd.read_csv(\"Faelle_Tabelle/Falle_2023.csv\",encoding='ISO-8859-1', sep=';')"
   ]
  },
  {
   "cell_type": "code",
   "execution_count": 90,
   "metadata": {},
   "outputs": [
    {
     "name": "stdout",
     "output_type": "stream",
     "text": [
      "17\n",
      "18\n",
      "17\n",
      "17\n",
      "17\n",
      "17\n",
      "17\n",
      "17\n",
      "18\n",
      "18\n"
     ]
    }
   ],
   "source": [
    "print(len(data_2014.columns))\n",
    "print(len(data_2015.columns))\n",
    "print(len(data_2016.columns))\n",
    "print(len(data_2017.columns))\n",
    "print(len(data_2018.columns))\n",
    "print(len(data_2019.columns))\n",
    "print(len(data_2020.columns))\n",
    "print(len(data_2021.columns))\n",
    "print(len(data_2022.columns))\n",
    "print(len(data_2023.columns))"
   ]
  },
  {
   "cell_type": "code",
   "execution_count": 91,
   "metadata": {},
   "outputs": [],
   "source": [
    "data_2015=data_2015.drop('Unnamed: 17',axis=1)\n",
    "data_2022=data_2022.drop('Unnamed: 17',axis=1)\n",
    "data_2023=data_2023.drop('Unnamed: 17',axis=1)"
   ]
  },
  {
   "cell_type": "code",
   "execution_count": 92,
   "metadata": {},
   "outputs": [],
   "source": [
    "data_2014 = data_2014.rename(columns={'erfasste Faelle': 'Faelle', 'HZ nach Zensus': 'HZ', 'Versuche - Anzahl':'Versuche', 'Versuche - Anteil in %':'Versuche_Prozent','mit Schusswaffe gedroht':'Schusswaffe_gedroht','mit Schusswaffe geschossen':'Schusswaffe_geschossen', 'aufgeklaerte Faelle':'aufgeklaert', 'Tatverdaechtige insgesamt':'Tatverdaechtige',\n",
    "       'Tatverdaechtige - maennlich':'Tatverdaechtige_maennlich', 'Tatverdaechtige - weiblich':'Tatverdaechtige_weiblich',\n",
    "       'Nichtdeutsche Tatverdaechtige - Anzahl':'Nichtdeutsche',\n",
    "       'Nichtdeutsche Tatverdaechtige - Anteil in %':'Nichtdeutsche_Prozent'})\n",
    "data_2015 = data_2015.rename(columns={'erfasste Faelle': 'Faelle', 'HZ nach Zensus': 'HZ', 'Versuche - Anzahl':'Versuche', 'Versuche - Anteil in %':'Versuche_Prozent','mit Schusswaffe gedroht':'Schusswaffe_gedroht','mit Schusswaffe geschossen':'Schusswaffe_geschossen', 'aufgeklaerte Faelle':'aufgeklaert', 'Tatverdaechtige insgesamt':'Tatverdaechtige',\n",
    "       'Tatverdaechtige - maennlich':'Tatverdaechtige_maennlich', 'Tatverdaechtige - weiblich':'Tatverdaechtige_weiblich',\n",
    "       'Nichtdeutsche Tatverdaechtige - Anzahl':'Nichtdeutsche',\n",
    "       'Nichtdeutsche Tatverdaechtige - Anteil in %':'Nichtdeutsche_Prozent'})\n",
    "data_2016 = data_2016.rename(columns={'erfasste Faelle': 'Faelle', 'HZ nach Zensus': 'HZ', 'Versuche - Anzahl':'Versuche', 'Versuche - Anteil in %':'Versuche_Prozent','mit Schusswaffe gedroht':'Schusswaffe_gedroht','mit Schusswaffe geschossen':'Schusswaffe_geschossen', 'aufgeklaerte Faelle':'aufgeklaert', 'Tatverdaechtige insgesamt':'Tatverdaechtige',\n",
    "       'Tatverdaechtige - maennlich':'Tatverdaechtige_maennlich', 'Tatverdaechtige - weiblich':'Tatverdaechtige_weiblich',\n",
    "       'Nichtdeutsche Tatverdaechtige - Anzahl':'Nichtdeutsche',\n",
    "       'Nichtdeutsche Tatverdaechtige - Anteil in %':'Nichtdeutsche_Prozent'})\n",
    "data_2017 = data_2017.rename(columns={'erfasste Faelle': 'Faelle', 'HZ nach Zensus': 'HZ', 'Versuche - Anzahl':'Versuche', 'Versuche - Anteil in %':'Versuche_Prozent','mit Schusswaffe gedroht':'Schusswaffe_gedroht','mit Schusswaffe geschossen':'Schusswaffe_geschossen', 'aufgeklaerte Faelle':'aufgeklaert', 'Tatverdaechtige insgesamt':'Tatverdaechtige',\n",
    "       'Tatverdaechtige - maennlich':'Tatverdaechtige_maennlich', 'Tatverdaechtige - weiblich':'Tatverdaechtige_weiblich',\n",
    "       'Nichtdeutsche Tatverdaechtige - Anzahl':'Nichtdeutsche',\n",
    "       'Nichtdeutsche Tatverdaechtige - Anteil in %':'Nichtdeutsche_Prozent'})\n",
    "data_2018 = data_2018.rename(columns={'erfasste Faelle': 'Faelle', 'HZ nach Zensus': 'HZ', 'Versuche - Anzahl':'Versuche', 'Versuche - Anteil in %':'Versuche_Prozent','mit Schusswaffe gedroht':'Schusswaffe_gedroht','mit Schusswaffe geschossen':'Schusswaffe_geschossen', 'aufgeklaerte Faelle':'aufgeklaert', 'Tatverdaechtige insgesamt':'Tatverdaechtige',\n",
    "       'Tatverdaechtige - maennlich':'Tatverdaechtige_maennlich', 'Tatverdaechtige - weiblich':'Tatverdaechtige_weiblich',\n",
    "       'Nichtdeutsche Tatverdaechtige - Anzahl':'Nichtdeutsche',\n",
    "       'Nichtdeutsche Tatverdaechtige - Anteil in %':'Nichtdeutsche_Prozent'})\n",
    "data_2019 = data_2019.rename(columns={'erfasste Faelle': 'Faelle', 'HZ nach Zensus': 'HZ', 'Versuche - Anzahl':'Versuche', 'Versuche - Anteil in %':'Versuche_Prozent','mit Schusswaffe gedroht':'Schusswaffe_gedroht','mit Schusswaffe geschossen':'Schusswaffe_geschossen', 'aufgeklaerte Faelle':'aufgeklaert', 'Tatverdaechtige insgesamt':'Tatverdaechtige',\n",
    "       'Tatverdaechtige - maennlich':'Tatverdaechtige_maennlich', 'Tatverdaechtige - weiblich':'Tatverdaechtige_weiblich',\n",
    "       'Nichtdeutsche Tatverdaechtige - Anzahl':'Nichtdeutsche',\n",
    "       'Nichtdeutsche Tatverdaechtige - Anteil in %':'Nichtdeutsche_Prozent'})\n",
    "data_2020 = data_2020.rename(columns={'Anzahl erfasste Faelle': 'Faelle', 'Haeufigkeitszahl': 'HZ', 'erfasse Faelle, davon Versuche - Anzahl':'Versuche', 'erfasste Faelle, davon Versuche - Anteil in %':'Versuche_Prozent','mit Schusswaffe gedroht':'Schusswaffe_gedroht','mit Schusswaffe geschossen':'Schusswaffe_geschossen', 'Aufkaerung - Anzahl Faelle':'aufgeklaert', 'Tatverdaechtige insgesamt':'Tatverdaechtige',\n",
    "       'Tatverdaechtige - maennlich':'Tatverdaechtige_maennlich', 'Tatverdaechtige - weiblich':'Tatverdaechtige_weiblich',\n",
    "       'Nichtdeutsche Tatverdaechtige - Anzahl':'Nichtdeutsche',\n",
    "       'Nichtdeutsche Tatverdaechtige - Anteil in % an Gesamtzahl':'Nichtdeutsche_Prozent'})\n",
    "data_2021 = data_2021.rename(columns={'Anzahl erfasste Faelle': 'Faelle', 'Haeufigkeitszahl': 'HZ', 'erfasse Faelle, davon Versuche - Anzahl':'Versuche', 'erfasste Faelle, davon Versuche - Anteil in %':'Versuche_Prozent','mit Schusswaffe gedroht':'Schusswaffe_gedroht','mit Schusswaffe geschossen':'Schusswaffe_geschossen', 'Aufkaerung - Anzahl Faelle':'aufgeklaert', 'Tatverdaechtige insgesamt':'Tatverdaechtige',\n",
    "       'Tatverdaechtige - maennlich':'Tatverdaechtige_maennlich', 'Tatverdaechtige - weiblich':'Tatverdaechtige_weiblich',\n",
    "       'Nichtdeutsche Tatverdaechtige - Anzahl':'Nichtdeutsche',\n",
    "       'Nichtdeutsche Tatverdaechtige - Anteil in % an Gesamtzahl':'Nichtdeutsche_Prozent'})\n",
    "data_2022 = data_2022.rename(columns={'Anzahl erfasste Faelle': 'Faelle', 'Haeufigkeitszahl': 'HZ', 'erfasse Faelle, davon Versuche - Anzahl':'Versuche', 'erfasste Faelle, davon Versuche - Anteil in %':'Versuche_Prozent','mit Schusswaffe gedroht':'Schusswaffe_gedroht','mit Schusswaffe geschossen':'Schusswaffe_geschossen', 'Aufkaerung - Anzahl Faelle':'aufgeklaert', 'Tatverdaechtige insgesamt':'Tatverdaechtige',\n",
    "       'Tatverdaechtige - maennlich':'Tatverdaechtige_maennlich', 'Tatverdaechtige - weiblich':'Tatverdaechtige_weiblich',\n",
    "       'Nichtdeutsche Tatverdaechtige - Anzahl':'Nichtdeutsche',\n",
    "       'Nichtdeutsche Tatverdaechtige - Anteil in % an Gesamtzahl':'Nichtdeutsche_Prozent'})\n",
    "data_2023 = data_2023.rename(columns={'Anzahl erfasste Faelle': 'Faelle', 'Haeufigkeitszahl': 'HZ', 'erfasse Faelle, davon Versuche - Anzahl':'Versuche', 'erfasste Faelle, davon Versuche - Anteil in %':'Versuche_Prozent','mit Schusswaffe gedroht':'Schusswaffe_gedroht','mit Schusswaffe geschossen':'Schusswaffe_geschossen', 'Aufkaerung - Anzahl Faelle':'aufgeklaert', 'Tatverdaechtige insgesamt':'Tatverdaechtige',\n",
    "       'Tatverdaechtige - maennlich':'Tatverdaechtige_maennlich', 'Tatverdaechtige - weiblich':'Tatverdaechtige_weiblich',\n",
    "       'Nichtdeutsche Tatverdaechtige - Anzahl':'Nichtdeutsche',\n",
    "       'Nichtdeutsche Tatverdaechtige - Anteil in % an Gesamtzahl':'Nichtdeutsche_Prozent'})\n"
   ]
  },
  {
   "cell_type": "code",
   "execution_count": 93,
   "metadata": {},
   "outputs": [
    {
     "name": "stdout",
     "output_type": "stream",
     "text": [
      "Index(['Schluessel', 'Straftat', 'Gemeindeschluessel', 'Stadt', 'Faelle', 'HZ',\n",
      "       'Versuche', 'Versuche_Prozent', 'Schusswaffe_gedroht',\n",
      "       'Schusswaffe_geschossen', 'aufgeklaert', 'Aufklaerungsquote',\n",
      "       'Tatverdaechtige', 'Tatverdaechtige_maennlich',\n",
      "       'Tatverdaechtige_weiblich', 'Nichtdeutsche', 'Nichtdeutsche_Prozent'],\n",
      "      dtype='object')\n",
      "Index(['Schluessel', 'Straftat', 'Gemeindeschluessel', 'Stadt', 'Faelle', 'HZ',\n",
      "       'Versuche', 'Versuche_Prozent', 'Schusswaffe_gedroht',\n",
      "       'Schusswaffe_geschossen', 'aufgeklaert', 'Aufklaerungsquote',\n",
      "       'Tatverdaechtige', 'Tatverdaechtige_maennlich',\n",
      "       'Tatverdaechtige_weiblich', 'Nichtdeutsche', 'Nichtdeutsche_Prozent'],\n",
      "      dtype='object')\n",
      "Index(['Schluessel', 'Straftat', 'Gemeindeschluessel', 'Stadt', 'Faelle', 'HZ',\n",
      "       'Versuche', 'Versuche_Prozent', 'Schusswaffe_gedroht',\n",
      "       'Schusswaffe_geschossen', 'aufgeklaert', 'Aufklaerungsquote',\n",
      "       'Tatverdaechtige', 'Tatverdaechtige_maennlich',\n",
      "       'Tatverdaechtige_weiblich', 'Nichtdeutsche', 'Nichtdeutsche_Prozent'],\n",
      "      dtype='object')\n",
      "Index(['Schluessel', 'Straftat', 'Gemeindeschluessel', 'Stadt', 'Faelle', 'HZ',\n",
      "       'Versuche', 'Versuche_Prozent', 'Schusswaffe_gedroht',\n",
      "       'Schusswaffe_geschossen', 'aufgeklaert', 'Aufklaerungsquote',\n",
      "       'Tatverdaechtige', 'Tatverdaechtige_maennlich',\n",
      "       'Tatverdaechtige_weiblich', 'Nichtdeutsche', 'Nichtdeutsche_Prozent'],\n",
      "      dtype='object')\n",
      "Index(['Schluessel', 'Straftat', 'Gemeindeschluessel', 'Stadt', 'Faelle', 'HZ',\n",
      "       'Versuche', 'Versuche_Prozent', 'Schusswaffe_gedroht',\n",
      "       'Schusswaffe_geschossen', 'aufgeklaert', 'Aufklaerungsquote',\n",
      "       'Tatverdaechtige', 'Tatverdaechtige_maennlich',\n",
      "       'Tatverdaechtige_weiblich', 'Nichtdeutsche', 'Nichtdeutsche_Prozent'],\n",
      "      dtype='object')\n",
      "Index(['Schluessel', 'Straftat', 'Gemeindeschluessel', 'Stadt', 'Faelle', 'HZ',\n",
      "       'Versuche', 'Versuche_Prozent', 'Schusswaffe_gedroht',\n",
      "       'Schusswaffe_geschossen', 'aufgeklaert', 'Aufklaerungsquote',\n",
      "       'Tatverdaechtige', 'Tatverdaechtige_maennlich',\n",
      "       'Tatverdaechtige_weiblich', 'Nichtdeutsche', 'Nichtdeutsche_Prozent'],\n",
      "      dtype='object')\n",
      "Index(['Schluessel', 'Straftat', 'Gemeindeschluessel', 'Stadt', 'Faelle', 'HZ',\n",
      "       'Versuche', 'Versuche_Prozent', 'Schusswaffe_gedroht',\n",
      "       'Schusswaffe_geschossen', 'aufgeklaert', 'Aufklaerungsquote',\n",
      "       'Tatverdaechtige', 'Tatverdaechtige_maennlich',\n",
      "       'Tatverdaechtige_weiblich', 'Nichtdeutsche', 'Nichtdeutsche_Prozent'],\n",
      "      dtype='object')\n",
      "Index(['Schluessel', 'Straftat', 'Gemeindeschluessel', 'Stadt', 'Faelle', 'HZ',\n",
      "       'Versuche', 'Versuche_Prozent', 'Schusswaffe_gedroht',\n",
      "       'Schusswaffe_geschossen', 'aufgeklaert', 'Aufklaerungsquote',\n",
      "       'Tatverdaechtige', 'Tatverdaechtige_maennlich',\n",
      "       'Tatverdaechtige_weiblich', 'Nichtdeutsche', 'Nichtdeutsche_Prozent'],\n",
      "      dtype='object')\n",
      "Index(['Schluessel', 'Straftat', 'Gemeindeschluessel', 'Stadt', 'Faelle', 'HZ',\n",
      "       'Versuche', 'Versuche_Prozent', 'Schusswaffe_gedroht',\n",
      "       'Schusswaffe_geschossen', 'aufgeklaert', 'Aufklaerungsquote',\n",
      "       'Tatverdaechtige', 'Tatverdaechtige_maennlich',\n",
      "       'Tatverdaechtige_weiblich', 'Nichtdeutsche', 'Nichtdeutsche_Prozent'],\n",
      "      dtype='object')\n",
      "Index(['Schluessel', 'Straftat', 'Gemeindeschluessel', 'Stadt', 'Faelle', 'HZ',\n",
      "       'Versuche', 'Versuche_Prozent', 'Schusswaffe_gedroht',\n",
      "       'Schusswaffe_geschossen', 'aufgeklaert', 'Aufklaerungsquote',\n",
      "       'Tatverdaechtige', 'Tatverdaechtige_maennlich',\n",
      "       'Tatverdaechtige_weiblich', 'Nichtdeutsche', 'Nichtdeutsche_Prozent'],\n",
      "      dtype='object')\n"
     ]
    }
   ],
   "source": [
    "print(data_2014.columns)\n",
    "print(data_2015.columns)\n",
    "print(data_2016.columns)\n",
    "print(data_2017.columns)\n",
    "print(data_2018.columns)\n",
    "print(data_2019.columns)\n",
    "print(data_2020.columns)\n",
    "print(data_2021.columns)\n",
    "print(data_2022.columns)\n",
    "print(data_2023.columns)"
   ]
  },
  {
   "cell_type": "code",
   "execution_count": 94,
   "metadata": {},
   "outputs": [
    {
     "name": "stdout",
     "output_type": "stream",
     "text": [
      "  Schluessel              Straftat  Gemeindeschluessel              Stadt  \\\n",
      "0     ------  Straftaten insgesamt             5334002             Aachen   \n",
      "1     ------  Straftaten insgesamt             9761000           Augsburg   \n",
      "2     ------  Straftaten insgesamt             5378004  Bergisch Gladbach   \n",
      "3     ------  Straftaten insgesamt            11000000             Berlin   \n",
      "4     ------  Straftaten insgesamt             5711000          Bielefeld   \n",
      "\n",
      "   Faelle       HZ  Versuche  Versuche_Prozent  Schusswaffe_gedroht  \\\n",
      "0   31213  12914.9      2768               8.9                   22   \n",
      "1   23188   8385.0      1345               5.8                   16   \n",
      "2    7345   6712.4       891              12.1                    5   \n",
      "3  543157  15873.3     42381               7.8                  391   \n",
      "4   27942   8496.5      1787               6.4                   33   \n",
      "\n",
      "   Schusswaffe_geschossen  aufgeklaert Aufklaerungsquote  Tatverdaechtige  \\\n",
      "0                      13        15673              50.2            11908   \n",
      "1                      24        16008                69            11211   \n",
      "2                       0         3302                45             2615   \n",
      "3                     280       243912              44.9           144116   \n",
      "4                      19        16189              57.9            11065   \n",
      "\n",
      "   Tatverdaechtige_maennlich  Tatverdaechtige_weiblich  Nichtdeutsche  \\\n",
      "0                       9368                      2540           6149   \n",
      "1                       8427                      2784           4073   \n",
      "2                       1956                       659            649   \n",
      "3                     104759                     39357          50761   \n",
      "4                       8433                      2632           3888   \n",
      "\n",
      "   Nichtdeutsche_Prozent  \n",
      "0                   51.6  \n",
      "1                   36.3  \n",
      "2                   24.8  \n",
      "3                   35.2  \n",
      "4                   35.1  \n"
     ]
    }
   ],
   "source": [
    "print(data_2014.head())"
   ]
  },
  {
   "cell_type": "code",
   "execution_count": 45,
   "metadata": {},
   "outputs": [
    {
     "name": "stdout",
     "output_type": "stream",
     "text": [
      "17\n",
      "  Schluessel              Straftat  Gemeindeschluessel              Stadt  \\\n",
      "0     ------  Straftaten insgesamt             5334002             Aachen   \n",
      "1     ------  Straftaten insgesamt             9761000           Augsburg   \n",
      "2     ------  Straftaten insgesamt             5378004  Bergisch Gladbach   \n",
      "3     ------  Straftaten insgesamt            11000000             Berlin   \n",
      "4     ------  Straftaten insgesamt             5711000          Bielefeld   \n",
      "\n",
      "   Faelle       HZ  Versuche  Versuche_Prozent  Schusswaffe_gedroht  \\\n",
      "0   31213  12914.9      2768               8.9                   22   \n",
      "1   23188   8385.0      1345               5.8                   16   \n",
      "2    7345   6712.4       891              12.1                    5   \n",
      "3  543157  15873.3     42381               7.8                  391   \n",
      "4   27942   8496.5      1787               6.4                   33   \n",
      "\n",
      "   Schusswaffe_geschossen  aufgeklaert Aufklaerungsquote  Tatverdaechtige  \\\n",
      "0                      13        15673              50.2            11908   \n",
      "1                      24        16008                69            11211   \n",
      "2                       0         3302                45             2615   \n",
      "3                     280       243912              44.9           144116   \n",
      "4                      19        16189              57.9            11065   \n",
      "\n",
      "   Tatverdaechtige_maennlich  Tatverdaechtige_weiblich  Nichtdeutsche  \\\n",
      "0                       9368                      2540           6149   \n",
      "1                       8427                      2784           4073   \n",
      "2                       1956                       659            649   \n",
      "3                     104759                     39357          50761   \n",
      "4                       8433                      2632           3888   \n",
      "\n",
      "   Nichtdeutsche_Prozent  \n",
      "0                   51.6  \n",
      "1                   36.3  \n",
      "2                   24.8  \n",
      "3                   35.2  \n",
      "4                   35.1  \n"
     ]
    }
   ],
   "source": [
    "print(len(data_2014.columns))\n",
    "print(data_2014.head())"
   ]
  },
  {
   "cell_type": "code",
   "execution_count": 95,
   "metadata": {},
   "outputs": [
    {
     "name": "stdout",
     "output_type": "stream",
     "text": [
      "Index(['Schluessel', 'Straftat', 'Gemeindeschluessel', 'Stadt', 'Faelle', 'HZ',\n",
      "       'Versuche', 'Versuche_Prozent', 'Schusswaffe_gedroht',\n",
      "       'Schusswaffe_geschossen', 'aufgeklaert', 'Aufklaerungsquote',\n",
      "       'Tatverdaechtige', 'Tatverdaechtige_maennlich',\n",
      "       'Tatverdaechtige_weiblich', 'Nichtdeutsche', 'Nichtdeutsche_Prozent'],\n",
      "      dtype='object')\n"
     ]
    }
   ],
   "source": [
    "print(data_2014.columns)"
   ]
  },
  {
   "cell_type": "code",
   "execution_count": 96,
   "metadata": {},
   "outputs": [
    {
     "name": "stdout",
     "output_type": "stream",
     "text": [
      "  Schluessel              Straftat  Gemeindeschluessel              Stadt  \\\n",
      "0     ------  Straftaten insgesamt             5334002             Aachen   \n",
      "1     ------  Straftaten insgesamt             9761000           Augsburg   \n",
      "2     ------  Straftaten insgesamt             5378004  Bergisch Gladbach   \n",
      "3     ------  Straftaten insgesamt            11000000             Berlin   \n",
      "4     ------  Straftaten insgesamt             5711000          Bielefeld   \n",
      "\n",
      "    Faelle         HZ Versuche  Versuche_Prozent  Schusswaffe_gedroht  \\\n",
      "0   30,394  12,054.60    2,147               7.1                   23   \n",
      "1   22,497   7,473.30    1,137               5.1                   15   \n",
      "2    6,703   5,947.00      625               9.3                    7   \n",
      "3  536,697  14,291.90   40,304               7.5                  340   \n",
      "4   27,557   8,145.00    1,888               6.9                   28   \n",
      "\n",
      "   Schusswaffe_geschossen aufgeklaert  Aufklaerungsquote Tatverdaechtige  \\\n",
      "0                      14      17,631               58.0          12,814   \n",
      "1                      21      16,806               74.7          11,950   \n",
      "2                      13       3,498               52.2           2,689   \n",
      "3                     364     244,215               45.5         140,619   \n",
      "4                      24      15,398               55.9          10,571   \n",
      "\n",
      "  Tatverdaechtige_maennlich Tatverdaechtige_weiblich Nichtdeutsche  \\\n",
      "0                    10,065                    2,749         7,353   \n",
      "1                     8,910                    3,040         6,244   \n",
      "2                     1,978                      711           900   \n",
      "3                   104,586                   36,033        68,532   \n",
      "4                     7,930                    2,641         4,503   \n",
      "\n",
      "   Nichtdeutsche_Prozent  Jahr  \n",
      "0                   57.4  2023  \n",
      "1                   52.3  2023  \n",
      "2                   33.5  2023  \n",
      "3                   48.7  2023  \n",
      "4                   42.6  2023  \n"
     ]
    }
   ],
   "source": [
    "data_2014[\"Jahr\"]=2014\n",
    "data_2015[\"Jahr\"]=2015\n",
    "data_2016[\"Jahr\"]=2016\n",
    "data_2017[\"Jahr\"]=2017\n",
    "data_2018[\"Jahr\"]=2018\n",
    "data_2019[\"Jahr\"]=2019\n",
    "data_2020[\"Jahr\"]=2020\n",
    "data_2021[\"Jahr\"]=2021\n",
    "data_2022[\"Jahr\"]=2022\n",
    "data_2023[\"Jahr\"]=2023\n",
    "print(data_2023.head())"
   ]
  },
  {
   "cell_type": "code",
   "execution_count": 97,
   "metadata": {},
   "outputs": [],
   "source": [
    "data_2014.to_csv(\"Faelle_2014_clean.csv\",index=False)\n",
    "data_2015.to_csv(\"Faelle_2015_clean.csv\",index=False)\n",
    "data_2016.to_csv(\"Faelle_2016_clean.csv\",index=False)\n",
    "data_2017.to_csv(\"Faelle_2017_clean.csv\",index=False)\n",
    "data_2018.to_csv(\"Faelle_2018_clean.csv\",index=False)\n",
    "data_2019.to_csv(\"Faelle_2019_clean.csv\",index=False)\n",
    "data_2020.to_csv(\"Faelle_2020_clean.csv\",index=False)\n",
    "data_2021.to_csv(\"Faelle_2021_clean.csv\",index=False)\n",
    "data_2022.to_csv(\"Faelle_2022_clean.csv\",index=False)\n",
    "data_2023.to_csv(\"Faelle_2023_clean.csv\",index=False)"
   ]
  },
  {
   "cell_type": "code",
   "execution_count": 98,
   "metadata": {},
   "outputs": [
    {
     "name": "stdout",
     "output_type": "stream",
     "text": [
      "  Schluessel              Straftat  Gemeindeschluessel              Stadt  \\\n",
      "0     ------  Straftaten insgesamt             5334002             Aachen   \n",
      "1     ------  Straftaten insgesamt             9761000           Augsburg   \n",
      "2     ------  Straftaten insgesamt             5378004  Bergisch Gladbach   \n",
      "3     ------  Straftaten insgesamt            11000000             Berlin   \n",
      "4     ------  Straftaten insgesamt             5711000          Bielefeld   \n",
      "\n",
      "   Faelle       HZ  Versuche  Versuche_Prozent  Schusswaffe_gedroht  \\\n",
      "0   31213  12914.9      2768               8.9                   22   \n",
      "1   23188   8385.0      1345               5.8                   16   \n",
      "2    7345   6712.4       891              12.1                    5   \n",
      "3  543157  15873.3     42381               7.8                  391   \n",
      "4   27942   8496.5      1787               6.4                   33   \n",
      "\n",
      "   Schusswaffe_geschossen  aufgeklaert Aufklaerungsquote  Tatverdaechtige  \\\n",
      "0                      13        15673              50.2            11908   \n",
      "1                      24        16008                69            11211   \n",
      "2                       0         3302                45             2615   \n",
      "3                     280       243912              44.9           144116   \n",
      "4                      19        16189              57.9            11065   \n",
      "\n",
      "   Tatverdaechtige_maennlich  Tatverdaechtige_weiblich  Nichtdeutsche  \\\n",
      "0                       9368                      2540           6149   \n",
      "1                       8427                      2784           4073   \n",
      "2                       1956                       659            649   \n",
      "3                     104759                     39357          50761   \n",
      "4                       8433                      2632           3888   \n",
      "\n",
      "   Nichtdeutsche_Prozent  Jahr  \n",
      "0                   51.6  2014  \n",
      "1                   36.3  2014  \n",
      "2                   24.8  2014  \n",
      "3                   35.2  2014  \n",
      "4                   35.1  2014  \n"
     ]
    }
   ],
   "source": [
    "print(data_2014.head())"
   ]
  },
  {
   "cell_type": "code",
   "execution_count": 88,
   "metadata": {},
   "outputs": [
    {
     "name": "stdout",
     "output_type": "stream",
     "text": [
      "78280\n",
      "3157\n",
      "3280\n",
      "3321\n",
      "3402\n",
      "3444\n",
      "3444\n",
      "3403\n",
      "3444\n",
      "3403\n"
     ]
    }
   ],
   "source": [
    "print(len(data_2014)) # why is this one so long?\n",
    "print(len(data_2015))\n",
    "print(len(data_2016))\n",
    "print(len(data_2017))\n",
    "print(len(data_2018))\n",
    "print(len(data_2019))\n",
    "print(len(data_2020))\n",
    "print(len(data_2021))\n",
    "print(len(data_2022))\n",
    "print(len(data_2023))"
   ]
  },
  {
   "cell_type": "code",
   "execution_count": 99,
   "metadata": {},
   "outputs": [],
   "source": [
    "combined_df = pd.concat([data_2014, data_2015, data_2016,data_2017,data_2018,data_2019,data_2020,data_2021,data_2022,data_2023], ignore_index=True)"
   ]
  },
  {
   "cell_type": "code",
   "execution_count": 100,
   "metadata": {},
   "outputs": [
    {
     "name": "stdout",
     "output_type": "stream",
     "text": [
      "<class 'pandas.core.frame.DataFrame'>\n",
      "RangeIndex: 108578 entries, 0 to 108577\n",
      "Data columns (total 18 columns):\n",
      " #   Column                     Non-Null Count   Dtype  \n",
      "---  ------                     --------------   -----  \n",
      " 0   Schluessel                 96563 non-null   float64\n",
      " 1   Straftat                   108578 non-null  object \n",
      " 2   Gemeindeschluessel         108578 non-null  int64  \n",
      " 3   Stadt                      108578 non-null  object \n",
      " 4   Faelle                     100302 non-null  float64\n",
      " 5   HZ                         104006 non-null  float64\n",
      " 6   Versuche                   107148 non-null  float64\n",
      " 7   Versuche_Prozent           108578 non-null  float64\n",
      " 8   Schusswaffe_gedroht        108578 non-null  int64  \n",
      " 9   Schusswaffe_geschossen     108578 non-null  int64  \n",
      " 10  aufgeklaert                103165 non-null  float64\n",
      " 11  Aufklaerungsquote          108577 non-null  float64\n",
      " 12  Tatverdaechtige            103595 non-null  float64\n",
      " 13  Tatverdaechtige_maennlich  104487 non-null  float64\n",
      " 14  Tatverdaechtige_weiblich   106818 non-null  float64\n",
      " 15  Nichtdeutsche              105810 non-null  float64\n",
      " 16  Nichtdeutsche_Prozent      108578 non-null  float64\n",
      " 17  Jahr                       108578 non-null  int64  \n",
      "dtypes: float64(12), int64(4), object(2)\n",
      "memory usage: 14.9+ MB\n",
      "None\n"
     ]
    }
   ],
   "source": [
    "combined_df.replace(\"------\", 0, inplace=True)\n",
    "numeric_columns = [\"Schluessel\",\"Gemeindeschluessel\",\"Faelle\",\"HZ\",\"Versuche\",\"Versuche_Prozent\",\"Schusswaffe_gedroht\",\"Schusswaffe_geschossen\",\"aufgeklaert\",\"Aufklaerungsquote\",\"Tatverdaechtige\",\"Tatverdaechtige_maennlich\",\"Tatverdaechtige_weiblich\",\"Nichtdeutsche\",\"Nichtdeutsche_Prozent\"]\n",
    "for column in numeric_columns:\n",
    "    combined_df[column] = pd.to_numeric(combined_df[column], errors=\"coerce\")\n",
    "print(combined_df.info())"
   ]
  },
  {
   "cell_type": "code",
   "execution_count": 76,
   "metadata": {},
   "outputs": [
    {
     "name": "stdout",
     "output_type": "stream",
     "text": [
      "   Schluessel              Straftat  Gemeindeschluessel              Stadt  \\\n",
      "0         0.0  Straftaten insgesamt             5334002             Aachen   \n",
      "1         0.0  Straftaten insgesamt             9761000           Augsburg   \n",
      "2         0.0  Straftaten insgesamt             5378004  Bergisch Gladbach   \n",
      "3         0.0  Straftaten insgesamt            11000000             Berlin   \n",
      "4         0.0  Straftaten insgesamt             5711000          Bielefeld   \n",
      "\n",
      "     Faelle       HZ  Versuche  Versuche_Prozent  Schusswaffe_gedroht  \\\n",
      "0   31213.0  12914.9    2768.0               8.9                   22   \n",
      "1   23188.0   8385.0    1345.0               5.8                   16   \n",
      "2    7345.0   6712.4     891.0              12.1                    5   \n",
      "3  543157.0  15873.3   42381.0               7.8                  391   \n",
      "4   27942.0   8496.5    1787.0               6.4                   33   \n",
      "\n",
      "   Schusswaffe_geschossen  aufgeklaert  Aufklaerungsquote  Tatverdaechtige  \\\n",
      "0                      13      15673.0               50.2          11908.0   \n",
      "1                      24      16008.0               69.0          11211.0   \n",
      "2                       0       3302.0               45.0           2615.0   \n",
      "3                     280     243912.0               44.9         144116.0   \n",
      "4                      19      16189.0               57.9          11065.0   \n",
      "\n",
      "   Tatverdaechtige_maennlich  Tatverdaechtige_weiblich  Nichtdeutsche  \\\n",
      "0                     9368.0                    2540.0         6149.0   \n",
      "1                     8427.0                    2784.0         4073.0   \n",
      "2                     1956.0                     659.0          649.0   \n",
      "3                   104759.0                   39357.0        50761.0   \n",
      "4                     8433.0                    2632.0         3888.0   \n",
      "\n",
      "   Nichtdeutsche_Prozent  Jahr  \n",
      "0                   51.6  2014  \n",
      "1                   36.3  2014  \n",
      "2                   24.8  2014  \n",
      "3                   35.2  2014  \n",
      "4                   35.1  2014  \n"
     ]
    }
   ],
   "source": [
    "print(combined_df.head())"
   ]
  },
  {
   "cell_type": "code",
   "execution_count": 101,
   "metadata": {},
   "outputs": [],
   "source": [
    "combined_df.to_csv(\"Faelle_combined_clean.csv\",index=False)"
   ]
  },
  {
   "cell_type": "code",
   "execution_count": null,
   "metadata": {},
   "outputs": [],
   "source": []
  }
 ],
 "metadata": {
  "kernelspec": {
   "display_name": "Python 3 (ipykernel)",
   "language": "python",
   "name": "python3"
  },
  "language_info": {
   "codemirror_mode": {
    "name": "ipython",
    "version": 3
   },
   "file_extension": ".py",
   "mimetype": "text/x-python",
   "name": "python",
   "nbconvert_exporter": "python",
   "pygments_lexer": "ipython3",
   "version": "3.12.7"
  }
 },
 "nbformat": 4,
 "nbformat_minor": 4
}
